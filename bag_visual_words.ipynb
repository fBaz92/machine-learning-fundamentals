{
 "cells": [
  {
   "cell_type": "code",
   "execution_count": 1,
   "metadata": {
    "collapsed": true
   },
   "outputs": [],
   "source": [
    "import pandas as pd\n",
    "import numpy as np\n",
    "import os\n",
    "from os import listdir\n",
    "from os.path import isfile, join\n",
    "from glob import glob\n",
    "from PIL import Image\n",
    "import matplotlib.pyplot as plt\n",
    "from sklearn.datasets import load_digits\n",
    "from sklearn.model_selection import train_test_split\n",
    "from sklearn.decomposition import PCA\n",
    "import cv2\n",
    "from skimage import io, color\n",
    "from tqdm import tqdm\n",
    "import random\n",
    "from numpy import linalg as LA\n",
    "from collections import Counter\n",
    "from sklearn.metrics import accuracy_score\n",
    "import matplotlib.pyplot as plt\n",
    "from skimage.io import imread"
   ]
  },
  {
   "cell_type": "code",
   "execution_count": 2,
   "outputs": [],
   "source": [
    "image_folders = glob(\"./shoes/*\", recursive = True)"
   ],
   "metadata": {
    "collapsed": false,
    "pycharm": {
     "name": "#%%\n"
    }
   }
  },
  {
   "cell_type": "code",
   "execution_count": 3,
   "outputs": [],
   "source": [
    "def only_files(dir_path):\n",
    "    return [f for f in listdir(dir_path) if isfile(join(dir_path, f))]"
   ],
   "metadata": {
    "collapsed": false,
    "pycharm": {
     "name": "#%%\n"
    }
   }
  },
  {
   "cell_type": "code",
   "execution_count": 5,
   "outputs": [],
   "source": [
    "from skimage.transform import resize\n",
    "\n",
    "scale_factor=0.2\n",
    "image = imread(image_folders[0])\n",
    "h, w, channels = image.shape\n",
    "h = int(scale_factor*h)\n",
    "w = int(scale_factor*w)\n",
    "\n",
    "def get_image(image_path, scale_factor = 0.2):\n",
    "    image = imread(image_path)\n",
    "    h, w, channels = image.shape\n",
    "    h = int(scale_factor*h)\n",
    "    w = int(scale_factor*w)\n",
    "    return resize(image, (h,w), anti_aliasing=True)\n",
    "\n"
   ],
   "metadata": {
    "collapsed": false,
    "pycharm": {
     "name": "#%%\n"
    }
   }
  },
  {
   "cell_type": "code",
   "execution_count": 6,
   "outputs": [],
   "source": [
    "def extract_images(paths:list, scale_factor = 0.2):\n",
    "    image = imread(paths[0])\n",
    "    h, w, channels = image.shape\n",
    "    h = int(scale_factor*h)\n",
    "    w = int(scale_factor*w)\n",
    "\n",
    "    A = np.zeros([len(paths), h * w * channels])\n",
    "    counter = 0\n",
    "\n",
    "    for image_path in tqdm(paths):\n",
    "        im = get_image(image_path=image_path, scale_factor=scale_factor)\n",
    "        if im is not None:\n",
    "            A[counter, :] = im.reshape(1, -1)\n",
    "            counter += 1\n",
    "        else:\n",
    "            continue\n",
    "\n",
    "    return A.T"
   ],
   "metadata": {
    "collapsed": false,
    "pycharm": {
     "name": "#%%\n"
    }
   }
  },
  {
   "cell_type": "code",
   "execution_count": 7,
   "outputs": [
    {
     "name": "stderr",
     "output_type": "stream",
     "text": [
      "100%|██████████| 337/337 [00:09<00:00, 35.98it/s]\n"
     ]
    }
   ],
   "source": [
    "A = extract_images(image_folders)"
   ],
   "metadata": {
    "collapsed": false,
    "pycharm": {
     "name": "#%%\n"
    }
   }
  },
  {
   "cell_type": "code",
   "execution_count": 8,
   "outputs": [],
   "source": [
    "labels = np.concatenate([np.ones(180),np.ones(157)*2])"
   ],
   "metadata": {
    "collapsed": false,
    "pycharm": {
     "name": "#%%\n"
    }
   }
  },
  {
   "cell_type": "code",
   "execution_count": 9,
   "outputs": [],
   "source": [
    "test_size = 0.2\n",
    "\n",
    "A_train, A_test, y_train, y_test = train_test_split(A.T, labels, test_size=test_size, random_state=47)"
   ],
   "metadata": {
    "collapsed": false,
    "pycharm": {
     "name": "#%%\n"
    }
   }
  },
  {
   "cell_type": "code",
   "execution_count": 10,
   "outputs": [
    {
     "name": "stdout",
     "output_type": "stream",
     "text": [
      "I will use 269 images to train the model and 68 images to validate it\n"
     ]
    }
   ],
   "source": [
    "print(\"I will use {} images to train the model and {} images to validate it\".format(\n",
    "    len(A_train), len(A_test)\n",
    "))"
   ],
   "metadata": {
    "collapsed": false,
    "pycharm": {
     "name": "#%%\n"
    }
   }
  },
  {
   "cell_type": "markdown",
   "source": [
    "## Bag visual words"
   ],
   "metadata": {
    "collapsed": false
   }
  },
  {
   "cell_type": "code",
   "execution_count": 12,
   "outputs": [],
   "source": [
    "from scipy.cluster.vq import kmeans,vq\n",
    "from sklearn.model_selection import GridSearchCV\n",
    "from sklearn.metrics import classification_report\n",
    "from sklearn.preprocessing import StandardScaler\n",
    "\n",
    "class BagOfWords():\n",
    "\n",
    "    def __init__(self, A_, y_train, target_w=150, channels=4, k = 1000, c_params = [1, 10, 100], gamma_params = [0.01, 0.1, 1, 10]):\n",
    "        self.A_ = A_\n",
    "        self.y_train = y_train\n",
    "        self.target_w = target_w\n",
    "        self.channels = channels\n",
    "        self.n_images_paths, self.n_features = self.A_.shape\n",
    "        self.k = k\n",
    "        self.sift = cv2.SIFT_create()\n",
    "        self.des_list, self.kp_list, self.descriptors_float = self.get_descriptors(A_=self.A_)\n",
    "        print(\"creating centroids\")\n",
    "        self.voc, self.variance = kmeans(self.descriptors_float, self.k, 20)\n",
    "        self.features = self.vector_quantization(self.des_list, self.n_images_paths, self.k, self.voc)\n",
    "        self.scaler = StandardScaler()\n",
    "        self.features = self.scaler.fit_transform(self.features)\n",
    "        self.c_params = c_params\n",
    "        self.gamma_params = gamma_params\n",
    "        self.model = self.train_model()\n",
    "\n",
    "\n",
    "    def get_descriptors(self, A_):\n",
    "        des_list = []\n",
    "        kp_list = []\n",
    "        images, features = A_.shape\n",
    "        for i in tqdm(range(images)):\n",
    "            im = A_[i,:]\n",
    "            im = im.reshape([-1, self.target_w, self.channels])\n",
    "            im = cv2.normalize(im, None, 0, 255, cv2.NORM_MINMAX).astype('uint8')\n",
    "            kp = self.sift.detect(im,None)\n",
    "            keypoints,descriptor= self.sift.compute(im, kp)\n",
    "            des_list.append(descriptor)\n",
    "            kp_list.append(keypoints)\n",
    "\n",
    "        first_ = True\n",
    "        for descriptor in des_list:\n",
    "            if descriptor is not None:\n",
    "                if first_:\n",
    "                    descriptors = descriptor\n",
    "                    first_ = False\n",
    "                else:\n",
    "                    descriptors = np.concatenate((descriptors, descriptor))\n",
    "            else:\n",
    "                continue\n",
    "        descriptors_float = descriptors.astype(float)\n",
    "        return des_list, kp_list, descriptors_float\n",
    "\n",
    "    def draw_keypoints(self, index=0, color=(255, 255, 255)):\n",
    "        keypoints = self.kp_list[index]\n",
    "        im = self.A_[index,:]\n",
    "        for kp in tqdm(keypoints):\n",
    "            x, y = kp.pt\n",
    "            plt.imshow(cv2.circle(im, (int(x), int(y)), 2, color))\n",
    "\n",
    "    def vector_quantization(self, des_list, n_images_paths, k, voc):\n",
    "        features = np.zeros((n_images_paths, k), \"float32\")\n",
    "        for i in tqdm(range(n_images_paths)):\n",
    "            try:\n",
    "                # Use the codebook to assign each observation to a cluster via vector quantization\n",
    "                # labels, distance = vq(dataset, codebook)\n",
    "                image_words, distance = vq(des_list[i], voc)\n",
    "                for w in image_words:\n",
    "                    features[i][w] += 1\n",
    "            except:\n",
    "                # if the image has no image_words, continue (the row will be all zeros)\n",
    "                continue\n",
    "        return features\n",
    "\n",
    "    def train_model(self):\n",
    "\n",
    "        print(\"sto allenando il modello\")\n",
    "        from sklearn.svm import SVC\n",
    "        features = self.features - np.mean(self.features, axis=0)\n",
    "        clf = SVC(kernel='rbf', class_weight='balanced')\n",
    "        param_grid = dict(gamma=self.gamma_params, C=self.c_params)\n",
    "        grid = GridSearchCV(clf, param_grid)\n",
    "        grid.fit(features, self.y_train)\n",
    "        return grid.best_estimator_\n",
    "\n",
    "    def draw_keypoints(self, index = 0, color = (255, 255, 255)):\n",
    "        im = self.A_[index,:].reshape([-1, self.target_w, self.channels])\n",
    "        keypoints = self.kp_list[index]\n",
    "        im = cv2.normalize(im, None, 0, 255, cv2.NORM_MINMAX).astype('uint8')\n",
    "        for kp in tqdm(keypoints):\n",
    "            x, y = kp.pt\n",
    "            plt.imshow(cv2.circle(im, (int(x), int(y)), 2, color))\n",
    "\n",
    "    def predict(self, A_test, y_test):\n",
    "        des_list, _, _ = self.get_descriptors(A_=A_test)\n",
    "        n_images_path, _ = A_test.shape\n",
    "        im_test_features = self.vector_quantization(des_list=des_list, n_images_paths=n_images_path, k=self.k, voc=self.voc)\n",
    "        yfit = self.model.predict(im_test_features)\n",
    "        print(classification_report(y_test, yfit))\n",
    "        return yfit\n",
    "\n",
    "    def transform_features(self, A_test):\n",
    "        des_list, _, _ = self.get_descriptors(A_=A_test)\n",
    "        n_images_path, _ = A_test.shape\n",
    "        im_test_features = self.vector_quantization(des_list=des_list, n_images_paths=n_images_path, k=self.k, voc=self.voc)\n",
    "        return im_test_features"
   ],
   "metadata": {
    "collapsed": false,
    "pycharm": {
     "name": "#%%\n"
    }
   }
  },
  {
   "cell_type": "code",
   "execution_count": 33,
   "outputs": [
    {
     "name": "stderr",
     "output_type": "stream",
     "text": [
      "100%|██████████| 269/269 [00:00<00:00, 282.04it/s]\n"
     ]
    },
    {
     "name": "stdout",
     "output_type": "stream",
     "text": [
      "creating centroids\n"
     ]
    },
    {
     "name": "stderr",
     "output_type": "stream",
     "text": [
      "100%|██████████| 269/269 [00:02<00:00, 124.32it/s]\n"
     ]
    },
    {
     "name": "stdout",
     "output_type": "stream",
     "text": [
      "sto allenando il modello\n"
     ]
    }
   ],
   "source": [
    "bg_classifier = BagOfWords(A_=A_train, channels=3, k=2000, y_train=y_train, target_w=w)"
   ],
   "metadata": {
    "collapsed": false,
    "pycharm": {
     "name": "#%%\n"
    }
   }
  },
  {
   "cell_type": "code",
   "execution_count": 34,
   "outputs": [
    {
     "name": "stderr",
     "output_type": "stream",
     "text": [
      "100%|██████████| 42/42 [00:00<00:00, 1494.18it/s]\n"
     ]
    },
    {
     "data": {
      "text/plain": "<Figure size 432x288 with 1 Axes>",
      "image/png": "[encoded data removed]"
     },
     "metadata": {
      "needs_background": "light"
     },
     "output_type": "display_data"
    }
   ],
   "source": [
    "bg_classifier.draw_keypoints(index=10)"
   ],
   "metadata": {
    "collapsed": false,
    "pycharm": {
     "name": "#%%\n"
    }
   }
  },
  {
   "cell_type": "code",
   "execution_count": 35,
   "outputs": [
    {
     "name": "stderr",
     "output_type": "stream",
     "text": [
      "100%|██████████| 68/68 [00:00<00:00, 296.85it/s]\n",
      "100%|██████████| 68/68 [00:00<00:00, 118.19it/s]"
     ]
    },
    {
     "name": "stdout",
     "output_type": "stream",
     "text": [
      "              precision    recall  f1-score   support\n",
      "\n",
      "         1.0       0.56      1.00      0.72        38\n",
      "         2.0       0.00      0.00      0.00        30\n",
      "\n",
      "    accuracy                           0.56        68\n",
      "   macro avg       0.28      0.50      0.36        68\n",
      "weighted avg       0.31      0.56      0.40        68\n",
      "\n"
     ]
    },
    {
     "name": "stderr",
     "output_type": "stream",
     "text": [
      "\n",
      "/Users/francescobazzani/miniconda3/envs/fml_project/lib/python3.10/site-packages/sklearn/metrics/_classification.py:1327: UndefinedMetricWarning: Precision and F-score are ill-defined and being set to 0.0 in labels with no predicted samples. Use `zero_division` parameter to control this behavior.\n",
      "  _warn_prf(average, modifier, msg_start, len(result))\n",
      "/Users/francescobazzani/miniconda3/envs/fml_project/lib/python3.10/site-packages/sklearn/metrics/_classification.py:1327: UndefinedMetricWarning: Precision and F-score are ill-defined and being set to 0.0 in labels with no predicted samples. Use `zero_division` parameter to control this behavior.\n",
      "  _warn_prf(average, modifier, msg_start, len(result))\n",
      "/Users/francescobazzani/miniconda3/envs/fml_project/lib/python3.10/site-packages/sklearn/metrics/_classification.py:1327: UndefinedMetricWarning: Precision and F-score are ill-defined and being set to 0.0 in labels with no predicted samples. Use `zero_division` parameter to control this behavior.\n",
      "  _warn_prf(average, modifier, msg_start, len(result))\n"
     ]
    },
    {
     "data": {
      "text/plain": "array([1., 1., 1., 1., 1., 1., 1., 1., 1., 1., 1., 1., 1., 1., 1., 1., 1.,\n       1., 1., 1., 1., 1., 1., 1., 1., 1., 1., 1., 1., 1., 1., 1., 1., 1.,\n       1., 1., 1., 1., 1., 1., 1., 1., 1., 1., 1., 1., 1., 1., 1., 1., 1.,\n       1., 1., 1., 1., 1., 1., 1., 1., 1., 1., 1., 1., 1., 1., 1., 1., 1.])"
     },
     "execution_count": 35,
     "metadata": {},
     "output_type": "execute_result"
    }
   ],
   "source": [
    "bg_classifier.predict(A_test=A_test, y_test=y_test)"
   ],
   "metadata": {
    "collapsed": false,
    "pycharm": {
     "name": "#%%\n"
    }
   }
  }
 ],
 "metadata": {
  "kernelspec": {
   "display_name": "Python 3",
   "language": "python",
   "name": "python3"
  },
  "language_info": {
   "codemirror_mode": {
    "name": "ipython",
    "version": 2
   },
   "file_extension": ".py",
   "mimetype": "text/x-python",
   "name": "python",
   "nbconvert_exporter": "python",
   "pygments_lexer": "ipython2",
   "version": "2.7.6"
  }
 },
 "nbformat": 4,
 "nbformat_minor": 0
}