{
 "cells": [
  {
   "cell_type": "code",
   "execution_count": 1,
   "metadata": {
    "collapsed": true
   },
   "outputs": [],
   "source": [
    "import pandas as pd\n",
    "import numpy as np\n",
    "import os\n",
    "from os import listdir\n",
    "from os.path import isfile, join\n",
    "from glob import glob\n",
    "from PIL import Image\n",
    "import matplotlib.pyplot as plt\n",
    "from sklearn.datasets import load_digits\n",
    "from sklearn.model_selection import train_test_split\n",
    "from sklearn.decomposition import PCA\n",
    "import cv2\n",
    "from skimage import io, color\n",
    "from tqdm import tqdm\n",
    "import random\n",
    "from numpy import linalg as LA\n",
    "from collections import Counter\n",
    "from sklearn.metrics import accuracy_score\n",
    "import matplotlib.pyplot as plt\n",
    "from skimage.io import imread"
   ]
  },
  {
   "cell_type": "code",
   "execution_count": 2,
   "outputs": [],
   "source": [
    "image_folders = glob(\"./visuelle/images/*/\", recursive = True)"
   ],
   "metadata": {
    "collapsed": false,
    "pycharm": {
     "name": "#%%\n"
    }
   }
  },
  {
   "cell_type": "code",
   "execution_count": 3,
   "outputs": [],
   "source": [
    "#define a help function to return the names of all the images in the folder\n",
    "def only_files(dir_path):\n",
    "    return [f for f in listdir(dir_path) if isfile(join(dir_path, f))]"
   ],
   "metadata": {
    "collapsed": false,
    "pycharm": {
     "name": "#%%\n"
    }
   }
  },
  {
   "cell_type": "code",
   "execution_count": 4,
   "outputs": [],
   "source": [
    "from skimage.transform import rescale, resize\n",
    "\n",
    "def get_image2(image_path: str, target_ar = 0.62, target_w = 200):\n",
    "    \"\"\"\n",
    "    :param image_path: string, path of the image\n",
    "    :param resize: boolean, if True the image is resized. Default: True\n",
    "    :param w: integer, specify the width of the resized image\n",
    "    :return: numpy array of the greyscale version of the image\n",
    "    \"\"\"\n",
    "    target_h = int(target_w*target_ar)\n",
    "\n",
    "    try:\n",
    "        image = imread(image_path) #it's a numpy array\n",
    "        h, w, channels = image.shape\n",
    "        ar = h/w\n",
    "\n",
    "        if ar > target_ar:\n",
    "            w = int((float(target_h)/float(ar)))\n",
    "            h = target_h\n",
    "            dw = target_w - w\n",
    "            image = resize(image, (h,w), anti_aliasing=True)\n",
    "            w_div2 = int(dw/2)\n",
    "            new_image = np.zeros([h, target_w, 4])\n",
    "            for i in range(channels):\n",
    "                im = image[:,:,i]\n",
    "                zeros_ = np.zeros(shape=[h, w_div2])\n",
    "                im = np.concatenate((zeros_, im), axis=1)\n",
    "                zeros_ = np.zeros(shape=[h, dw - w_div2])\n",
    "                im = np.concatenate((im, zeros_), axis=1)\n",
    "                new_image[:,:,i] = im\n",
    "            return new_image\n",
    "\n",
    "        else:\n",
    "            w = target_w\n",
    "            h = int(w/ar)\n",
    "            dh = h - target_h\n",
    "            h_div2 = int(dh/2)\n",
    "            image = resize(image, (h, w), anti_aliasing=True)\n",
    "            new_image = np.zeros([target_h, w, 4])\n",
    "            for i in range(channels):\n",
    "                im = image[:,:,i]\n",
    "                im = im[h_div2:-(dh-h_div2), :]\n",
    "                new_image[:,:,i] = im\n",
    "            return new_image\n",
    "\n",
    "    except:\n",
    "        #AI19/04442.png corrupted\n",
    "        #AI18/02971.png corrupted\n",
    "        print(\"problem!\")\n",
    "        return np.zeros(shape=[target_h, target_w, 4])"
   ],
   "metadata": {
    "collapsed": false,
    "pycharm": {
     "name": "#%%\n"
    }
   }
  },
  {
   "cell_type": "code",
   "execution_count": 5,
   "outputs": [],
   "source": [
    "def to_csv(array: np.array, name: str):\n",
    "    df= pd.DataFrame(array)\n",
    "    df.to_csv(name, index=False)\n",
    "\n",
    "def from_csv(name: str):\n",
    "    df = pd.read_csv(name)\n",
    "    array = df.to_numpy()\n",
    "    return array"
   ],
   "metadata": {
    "collapsed": false,
    "pycharm": {
     "name": "#%%\n"
    }
   }
  },
  {
   "cell_type": "code",
   "execution_count": 6,
   "outputs": [],
   "source": [
    "def extract_images(paths:list, target_w: int, target_h: int, target_ar: int):\n",
    "    A = np.zeros([len(paths), target_w * target_h * 4])\n",
    "    counter = 0\n",
    "\n",
    "    for image_path in tqdm(paths):\n",
    "        im = get_image2(image_path=image_path, target_ar=target_ar, target_w=target_w)\n",
    "        if im is not None:\n",
    "            A[counter, :] = im.reshape(1, -1)\n",
    "            counter += 1\n",
    "        else:\n",
    "            continue\n",
    "\n",
    "    return A.T"
   ],
   "metadata": {
    "collapsed": false,
    "pycharm": {
     "name": "#%%\n"
    }
   }
  },
  {
   "cell_type": "code",
   "execution_count": 7,
   "outputs": [],
   "source": [
    "import scipy.stats\n",
    "import pandas as pd\n",
    "import numpy as np\n",
    "from tqdm import tqdm\n",
    "from sklearn.metrics import accuracy_score\n",
    "from sklearn.preprocessing import StandardScaler\n",
    "import matplotlib.pyplot as plt\n",
    "from scipy.stats import norm\n",
    "from sklearn.mixture import GaussianMixture as GMM\n",
    "\n",
    "class GM1D():\n",
    "\n",
    "    def __init__(self, data: np.array, autotune=True, k=2, maximum_modes=2, max_iter = 1000, verbose=False):\n",
    "        self.data = data.reshape(-1,1)\n",
    "        self.maximum_modes = maximum_modes\n",
    "        self.max_iter = max_iter\n",
    "        self.verbose = verbose\n",
    "        if autotune:\n",
    "            self.k = self.get_number_modes()\n",
    "        else:\n",
    "            self.k = k\n",
    "        self.gmm = GMM(n_components=self.k, random_state=0).fit(self.data)\n",
    "        self.mean = self.gmm.means_\n",
    "        self.covariances = self.gmm.covariances_\n",
    "        self.weights = self.gmm.weights_\n",
    "\n",
    "\n",
    "    def get_number_modes(self):\n",
    "        # first of all, let's confirm the optimal number of components\n",
    "        bics = []\n",
    "        min_bic = 0\n",
    "        counter=1\n",
    "        for i in range(self.maximum_modes): # test the AIC/BIC metric between 1 and 10 components\n",
    "            gmm = GMM(n_components = counter, max_iter=self.max_iter, random_state=0, covariance_type = 'full')\n",
    "            labels = gmm.fit(self.data).predict(self.data)\n",
    "            bic = gmm.bic(self.data)\n",
    "            bics.append(bic)\n",
    "            if bic < min_bic or min_bic == 0:\n",
    "                min_bic = bic\n",
    "                opt_bic = counter\n",
    "            counter = counter + 1\n",
    "\n",
    "        if self.verbose:\n",
    "            # plot the evolution of BIC/AIC with the number of components\n",
    "            fig = plt.figure(figsize=(10, 4))\n",
    "            ax = fig.add_subplot(1,2,1)\n",
    "            # Plot 1\n",
    "            plt.plot(np.arange(1,self.maximum_modes+1), bics, 'o-', lw=3, c='black', label='BIC')\n",
    "            plt.legend(frameon=False, fontsize=1)\n",
    "            plt.xlabel('Number of components', fontsize=20)\n",
    "            plt.ylabel('Information criterion', fontsize=20)\n",
    "            plt.xticks(np.arange(0,11,2))\n",
    "            plt.title('Opt. components = '+str(opt_bic), fontsize=20)\n",
    "\n",
    "        return opt_bic\n",
    "\n",
    "    def pdf(self, x):\n",
    "        tmp = 0\n",
    "        for index in range(self.k):\n",
    "            tmp += norm.pdf(x, self.mean[index,0], np.sqrt(self.covariances[index,0]))*self.weights[index]\n",
    "        return np.log(tmp[0])\n",
    "\n",
    "    def plot_pdf_modeled(self, n_bins=25):\n",
    "        x_data = np.linspace(np.min(self.data),np.max(self.data), n_bins+1)\n",
    "        data_ = [np.exp(self.pdf(d)) for d in x_data]\n",
    "\n",
    "        plt.hist(self.data,density=True,bins=n_bins)\n",
    "        plt.plot(x_data, np.array(data_))\n",
    "\n",
    "\n",
    "class BayesianClassifier():\n",
    "    def __init__(self, data: np.ndarray, labels: list, normalize = False, verbose=False):\n",
    "        if normalize:\n",
    "            scaler = StandardScaler()\n",
    "            self.data = scaler.fit_transform(data)\n",
    "        else:\n",
    "            self.data = data\n",
    "        self.labels = np.array(labels)\n",
    "        self.n_classes = len(set(labels))\n",
    "        self.unique_labels = {code: label for code, label in zip(range(self.n_classes), set(labels))}\n",
    "        self.n_features = len(data[0])\n",
    "        self.prior = np.zeros(self.n_classes)\n",
    "        self.means = np.zeros((self.n_classes, self.n_features))\n",
    "        self.std_ = np.zeros((self.n_classes, self.n_features))\n",
    "        #self.likelihood = {class_: [] for class_ in self.unique_labels}\n",
    "        self.mixture_model = [GM1D(data=self.data[:,i], verbose=verbose) for i in range(self.n_features)]\n",
    "        self.train()\n",
    "\n",
    "    def train(self):\n",
    "        for i in range(self.n_classes):\n",
    "            self.prior[i] = np.log(np.sum(self.labels == self.unique_labels[i]) / self.labels.shape[0])\n",
    "            for j in range(self.n_features):\n",
    "                # I create the likelihood model for each feature\n",
    "                self.means[i][j] = np.mean(self.data[self.labels == self.unique_labels[i], j])\n",
    "                self.std_[i][j] = np.std(self.data[self.labels == self.unique_labels[i], j])\n",
    "                #each entry is a pdf object with the mean and std of the feature\n",
    "                #self.likelihood[class_].append(lambda x: np.log(scipy.stats.norm(self.means[i][j], self.std_[i][j]).pdf(x)))\n",
    "\n",
    "    def predict(self, data:np.ndarray, weights=None, y_true = None, use_mixture_model = True):\n",
    "        predictions = []\n",
    "        prob_dataframe = pd.DataFrame(columns=[code for code in self.unique_labels.keys()])\n",
    "        for i in tqdm(range(data.shape[0])):\n",
    "            observation = data[i]\n",
    "            if use_mixture_model:\n",
    "                prediction, probabilities = self.predict_single(data=observation, use_mixture_model=True, weights=weights)\n",
    "            else:\n",
    "                prediction, probabilities = self.predict_single(data=observation)\n",
    "            prob_dataframe = pd.concat([prob_dataframe, pd.DataFrame(data=probabilities.reshape(1,-1))], ignore_index=True)\n",
    "            predictions.append(prediction)\n",
    "        prob_dataframe = prob_dataframe.rename(columns=self.unique_labels)\n",
    "        if y_true:\n",
    "            score = accuracy_score(y_true=y_true,y_pred=predictions)\n",
    "            print(\"The score of the classifier is: {}\".format(score))\n",
    "        return (predictions, prob_dataframe)\n",
    "\n",
    "    def predict_single(self, data:np.ndarray, use_mixture_model=True, weights=None):\n",
    "        probabilities = np.zeros(self.n_classes)\n",
    "        for i in range(self.n_classes):\n",
    "            #add the prior at the estimate\n",
    "            probabilities[i] = self.prior[i]\n",
    "            for j in range(self.n_features):\n",
    "                #calcluate the likehood for this class and this feature\n",
    "                if use_mixture_model:\n",
    "                    calculations = self.mixture_model[j].pdf(data[j])\n",
    "                else:\n",
    "                    calculations = np.log(\n",
    "                        scipy.stats.norm(self.means[i][j], self.std_[i][j]).pdf(data[j])\n",
    "                    )\n",
    "                if weights is not None:\n",
    "                    #rescale the calculations: if a feature has an higher eigenvalue the associated\n",
    "                    #contribute will be smaller and, in global, it will have an higher impact in the\n",
    "                    #classification.\n",
    "                    calculations = calculations/weights[j]\n",
    "\n",
    "                probabilities[i] += calculations\n",
    "        index = np.argmax(probabilities)\n",
    "        return (self.unique_labels[index], probabilities)"
   ],
   "metadata": {
    "collapsed": false,
    "pycharm": {
     "name": "#%%\n"
    }
   }
  },
  {
   "cell_type": "code",
   "execution_count": 8,
   "outputs": [],
   "source": [
    "def start_over_dr(data, test_size=0.8):\n",
    "    y = [(cat, color) for cat, color in zip(data.category.to_list(), data.color.to_list())]\n",
    "    df_drA_total = pd.read_csv(\"dr_images.csv\")\n",
    "    drA_total = df_drA_total.to_numpy()\n",
    "\n",
    "    del df_drA_total\n",
    "\n",
    "    drA_train, drA_test, y_train, y_test = train_test_split(drA_total, y, test_size=test_size, random_state=58)\n",
    "\n",
    "    y_test_color = [c for _, c in y_test]\n",
    "    y_train_color = [c for _, c in y_train]\n",
    "\n",
    "    y_test = [category for category, _ in y_test]\n",
    "    y_train = [category for category, _ in y_train]\n",
    "\n",
    "    return drA_train, drA_test, y_test_color, y_train_color, y_test, y_train\n"
   ],
   "metadata": {
    "collapsed": false,
    "pycharm": {
     "name": "#%%\n"
    }
   }
  },
  {
   "cell_type": "code",
   "execution_count": 9,
   "outputs": [],
   "source": [
    "from numpy.linalg import eig\n",
    "\n",
    "def eigen_training(A):\n",
    "    n, m = A.shape\n",
    "    L = np.matmul(A.T, A)\n",
    "\n",
    "    eigenValues, eigenVectors = eig(L)\n",
    "    idx = eigenValues.argsort()[::-1]\n",
    "    eigenValues = eigenValues[idx]\n",
    "    eigenVectors = eigenVectors[:,idx]\n",
    "\n",
    "    #U are the igenvectors in the original referiment system\n",
    "    U = np.matmul(A, eigenVectors)\n",
    "\n",
    "    for i in range(m):\n",
    "        #normalize\n",
    "        U[i,:] = np.linalg.norm(U[i,:])\n",
    "\n",
    "    return (eigenValues, U)"
   ],
   "metadata": {
    "collapsed": false,
    "pycharm": {
     "name": "#%%\n"
    }
   }
  },
  {
   "cell_type": "markdown",
   "source": [
    "## Load the data"
   ],
   "metadata": {
    "collapsed": false
   }
  },
  {
   "cell_type": "code",
   "execution_count": 10,
   "outputs": [
    {
     "name": "stdout",
     "output_type": "stream",
     "text": [
      "5575\n"
     ]
    }
   ],
   "source": [
    "data = pd.read_csv(\"./visuelle/test.csv\")\n",
    "data_test = data\n",
    "data_train = pd.read_csv(\"./visuelle/train.csv\")\n",
    "data = pd.concat([data_test, data_train])\n",
    "print(len(data))\n",
    "data[\"image_path\"] = \"./visuelle/images/\"+ data.image_path.astype(str)\n",
    "data_test[\"image_path\"] = \"./visuelle/images/\"+ data_test.image_path.astype(str)\n",
    "data_train[\"image_path\"] = \"./visuelle/images/\"+ data_train.image_path.astype(str)"
   ],
   "metadata": {
    "collapsed": false,
    "pycharm": {
     "name": "#%%\n"
    }
   }
  },
  {
   "cell_type": "code",
   "execution_count": 11,
   "outputs": [
    {
     "data": {
      "text/plain": "             0         1         2         3         4         5         6  \\\n0     0.032864  0.062911  0.054460  0.056338  0.042254  0.033803  0.037559   \n1     0.046948  0.060094  0.083568  0.117371  0.079812  0.089202  0.078873   \n2     0.043192  0.086385  0.079812  0.080751  0.061972  0.062911  0.054460   \n3     0.060094  0.090141  0.076995  0.060094  0.041315  0.024413  0.018779   \n4     0.062911  0.108920  0.105164  0.116432  0.066667  0.059155  0.056338   \n...        ...       ...       ...       ...       ...       ...       ...   \n5073  0.016901  0.018779  0.020657  0.015023  0.010329  0.020657  0.023474   \n5074  0.026291  0.039437  0.044131  0.030986  0.032864  0.058216  0.027230   \n5075  0.000939  0.001878  0.011268  0.014085  0.010329  0.015023  0.011268   \n5076  0.001878  0.059155  0.045070  0.050704  0.063850  0.121127  0.066667   \n5077  0.000939  0.066667  0.054460  0.037559  0.039437  0.094836  0.063850   \n\n             7         8         9  ...       category  release_date  \\\n0     0.029108  0.016901  0.012207  ...  short sleeves    2019-04-17   \n1     0.061033  0.023474  0.015962  ...       culottes    2019-04-17   \n2     0.045070  0.021596  0.015962  ...   kimono dress    2019-04-17   \n3     0.006573  0.002817  0.001878  ...    long sleeve    2019-04-17   \n4     0.076056  0.061033  0.053521  ...     doll dress    2019-04-17   \n...        ...       ...       ...  ...            ...           ...   \n5073  0.015962  0.015962  0.011268  ...   sheath dress    2019-10-23   \n5074  0.044131  0.046009  0.024413  ...   kimono dress    2019-10-23   \n5075  0.015962  0.003756  0.017840  ...    medium coat    2019-10-24   \n5076  0.098592  0.148357  0.101408  ...   kimono dress    2019-10-25   \n5077  0.076995  0.115493  0.043192  ...   kimono dress    2019-10-25   \n\n           day      week     month year                        image_path  \\\n0     0.333333  0.307692  0.333333  1.0  ./visuelle/images/PE19/05081.png   \n1     0.333333  0.307692  0.333333  1.0  ./visuelle/images/PE19/05082.png   \n2     0.333333  0.307692  0.333333  1.0  ./visuelle/images/PE19/05083.png   \n3     0.333333  0.307692  0.333333  1.0  ./visuelle/images/PE19/05084.png   \n4     0.333333  0.307692  0.333333  1.0  ./visuelle/images/PE19/05085.png   \n...        ...       ...       ...  ...                               ...   \n5073  0.333333  0.826923  0.833333  1.0  ./visuelle/images/AI19/05076.png   \n5074  0.333333  0.826923  0.833333  1.0  ./visuelle/images/AI19/05077.png   \n5075  0.500000  0.826923  0.833333  1.0  ./visuelle/images/AI19/05078.png   \n5076  0.666667  0.826923  0.833333  1.0  ./visuelle/images/AI19/05079.png   \n5077  0.666667  0.826923  0.833333  1.0  ./visuelle/images/AI19/05080.png   \n\n      color       fabric      extra  \n0      grey    georgette        hem  \n1       red    bengaline  strapless  \n2     white        frise        hem  \n3      grey  scuba crepe        hem  \n4      grey    georgette        hem  \n...     ...          ...        ...  \n5073  black  scuba crepe  racerback  \n5074  black         nice     zipper  \n5075  black  foam rubber     sleeve  \n5076  green      acrylic        hem  \n5077    red      acrylic        hem  \n\n[5575 rows x 24 columns]",
      "text/html": "<div>\n<style scoped>\n    .dataframe tbody tr th:only-of-type {\n        vertical-align: middle;\n    }\n\n    .dataframe tbody tr th {\n        vertical-align: top;\n    }\n\n    .dataframe thead th {\n        text-align: right;\n    }\n</style>\n<table border=\"1\" class=\"dataframe\">\n  <thead>\n    <tr style=\"text-align: right;\">\n      <th></th>\n      <th>0</th>\n      <th>1</th>\n      <th>2</th>\n      <th>3</th>\n      <th>4</th>\n      <th>5</th>\n      <th>6</th>\n      <th>7</th>\n      <th>8</th>\n      <th>9</th>\n      <th>...</th>\n      <th>category</th>\n      <th>release_date</th>\n      <th>day</th>\n      <th>week</th>\n      <th>month</th>\n      <th>year</th>\n      <th>image_path</th>\n      <th>color</th>\n      <th>fabric</th>\n      <th>extra</th>\n    </tr>\n  </thead>\n  <tbody>\n    <tr>\n      <th>0</th>\n      <td>0.032864</td>\n      <td>0.062911</td>\n      <td>0.054460</td>\n      <td>0.056338</td>\n      <td>0.042254</td>\n      <td>0.033803</td>\n      <td>0.037559</td>\n      <td>0.029108</td>\n      <td>0.016901</td>\n      <td>0.012207</td>\n      <td>...</td>\n      <td>short sleeves</td>\n      <td>2019-04-17</td>\n      <td>0.333333</td>\n      <td>0.307692</td>\n      <td>0.333333</td>\n      <td>1.0</td>\n      <td>./visuelle/images/PE19/05081.png</td>\n      <td>grey</td>\n      <td>georgette</td>\n      <td>hem</td>\n    </tr>\n    <tr>\n      <th>1</th>\n      <td>0.046948</td>\n      <td>0.060094</td>\n      <td>0.083568</td>\n      <td>0.117371</td>\n      <td>0.079812</td>\n      <td>0.089202</td>\n      <td>0.078873</td>\n      <td>0.061033</td>\n      <td>0.023474</td>\n      <td>0.015962</td>\n      <td>...</td>\n      <td>culottes</td>\n      <td>2019-04-17</td>\n      <td>0.333333</td>\n      <td>0.307692</td>\n      <td>0.333333</td>\n      <td>1.0</td>\n      <td>./visuelle/images/PE19/05082.png</td>\n      <td>red</td>\n      <td>bengaline</td>\n      <td>strapless</td>\n    </tr>\n    <tr>\n      <th>2</th>\n      <td>0.043192</td>\n      <td>0.086385</td>\n      <td>0.079812</td>\n      <td>0.080751</td>\n      <td>0.061972</td>\n      <td>0.062911</td>\n      <td>0.054460</td>\n      <td>0.045070</td>\n      <td>0.021596</td>\n      <td>0.015962</td>\n      <td>...</td>\n      <td>kimono dress</td>\n      <td>2019-04-17</td>\n      <td>0.333333</td>\n      <td>0.307692</td>\n      <td>0.333333</td>\n      <td>1.0</td>\n      <td>./visuelle/images/PE19/05083.png</td>\n      <td>white</td>\n      <td>frise</td>\n      <td>hem</td>\n    </tr>\n    <tr>\n      <th>3</th>\n      <td>0.060094</td>\n      <td>0.090141</td>\n      <td>0.076995</td>\n      <td>0.060094</td>\n      <td>0.041315</td>\n      <td>0.024413</td>\n      <td>0.018779</td>\n      <td>0.006573</td>\n      <td>0.002817</td>\n      <td>0.001878</td>\n      <td>...</td>\n      <td>long sleeve</td>\n      <td>2019-04-17</td>\n      <td>0.333333</td>\n      <td>0.307692</td>\n      <td>0.333333</td>\n      <td>1.0</td>\n      <td>./visuelle/images/PE19/05084.png</td>\n      <td>grey</td>\n      <td>scuba crepe</td>\n      <td>hem</td>\n    </tr>\n    <tr>\n      <th>4</th>\n      <td>0.062911</td>\n      <td>0.108920</td>\n      <td>0.105164</td>\n      <td>0.116432</td>\n      <td>0.066667</td>\n      <td>0.059155</td>\n      <td>0.056338</td>\n      <td>0.076056</td>\n      <td>0.061033</td>\n      <td>0.053521</td>\n      <td>...</td>\n      <td>doll dress</td>\n      <td>2019-04-17</td>\n      <td>0.333333</td>\n      <td>0.307692</td>\n      <td>0.333333</td>\n      <td>1.0</td>\n      <td>./visuelle/images/PE19/05085.png</td>\n      <td>grey</td>\n      <td>georgette</td>\n      <td>hem</td>\n    </tr>\n    <tr>\n      <th>...</th>\n      <td>...</td>\n      <td>...</td>\n      <td>...</td>\n      <td>...</td>\n      <td>...</td>\n      <td>...</td>\n      <td>...</td>\n      <td>...</td>\n      <td>...</td>\n      <td>...</td>\n      <td>...</td>\n      <td>...</td>\n      <td>...</td>\n      <td>...</td>\n      <td>...</td>\n      <td>...</td>\n      <td>...</td>\n      <td>...</td>\n      <td>...</td>\n      <td>...</td>\n      <td>...</td>\n    </tr>\n    <tr>\n      <th>5073</th>\n      <td>0.016901</td>\n      <td>0.018779</td>\n      <td>0.020657</td>\n      <td>0.015023</td>\n      <td>0.010329</td>\n      <td>0.020657</td>\n      <td>0.023474</td>\n      <td>0.015962</td>\n      <td>0.015962</td>\n      <td>0.011268</td>\n      <td>...</td>\n      <td>sheath dress</td>\n      <td>2019-10-23</td>\n      <td>0.333333</td>\n      <td>0.826923</td>\n      <td>0.833333</td>\n      <td>1.0</td>\n      <td>./visuelle/images/AI19/05076.png</td>\n      <td>black</td>\n      <td>scuba crepe</td>\n      <td>racerback</td>\n    </tr>\n    <tr>\n      <th>5074</th>\n      <td>0.026291</td>\n      <td>0.039437</td>\n      <td>0.044131</td>\n      <td>0.030986</td>\n      <td>0.032864</td>\n      <td>0.058216</td>\n      <td>0.027230</td>\n      <td>0.044131</td>\n      <td>0.046009</td>\n      <td>0.024413</td>\n      <td>...</td>\n      <td>kimono dress</td>\n      <td>2019-10-23</td>\n      <td>0.333333</td>\n      <td>0.826923</td>\n      <td>0.833333</td>\n      <td>1.0</td>\n      <td>./visuelle/images/AI19/05077.png</td>\n      <td>black</td>\n      <td>nice</td>\n      <td>zipper</td>\n    </tr>\n    <tr>\n      <th>5075</th>\n      <td>0.000939</td>\n      <td>0.001878</td>\n      <td>0.011268</td>\n      <td>0.014085</td>\n      <td>0.010329</td>\n      <td>0.015023</td>\n      <td>0.011268</td>\n      <td>0.015962</td>\n      <td>0.003756</td>\n      <td>0.017840</td>\n      <td>...</td>\n      <td>medium coat</td>\n      <td>2019-10-24</td>\n      <td>0.500000</td>\n      <td>0.826923</td>\n      <td>0.833333</td>\n      <td>1.0</td>\n      <td>./visuelle/images/AI19/05078.png</td>\n      <td>black</td>\n      <td>foam rubber</td>\n      <td>sleeve</td>\n    </tr>\n    <tr>\n      <th>5076</th>\n      <td>0.001878</td>\n      <td>0.059155</td>\n      <td>0.045070</td>\n      <td>0.050704</td>\n      <td>0.063850</td>\n      <td>0.121127</td>\n      <td>0.066667</td>\n      <td>0.098592</td>\n      <td>0.148357</td>\n      <td>0.101408</td>\n      <td>...</td>\n      <td>kimono dress</td>\n      <td>2019-10-25</td>\n      <td>0.666667</td>\n      <td>0.826923</td>\n      <td>0.833333</td>\n      <td>1.0</td>\n      <td>./visuelle/images/AI19/05079.png</td>\n      <td>green</td>\n      <td>acrylic</td>\n      <td>hem</td>\n    </tr>\n    <tr>\n      <th>5077</th>\n      <td>0.000939</td>\n      <td>0.066667</td>\n      <td>0.054460</td>\n      <td>0.037559</td>\n      <td>0.039437</td>\n      <td>0.094836</td>\n      <td>0.063850</td>\n      <td>0.076995</td>\n      <td>0.115493</td>\n      <td>0.043192</td>\n      <td>...</td>\n      <td>kimono dress</td>\n      <td>2019-10-25</td>\n      <td>0.666667</td>\n      <td>0.826923</td>\n      <td>0.833333</td>\n      <td>1.0</td>\n      <td>./visuelle/images/AI19/05080.png</td>\n      <td>red</td>\n      <td>acrylic</td>\n      <td>hem</td>\n    </tr>\n  </tbody>\n</table>\n<p>5575 rows × 24 columns</p>\n</div>"
     },
     "execution_count": 11,
     "metadata": {},
     "output_type": "execute_result"
    }
   ],
   "source": [
    "data"
   ],
   "metadata": {
    "collapsed": false,
    "pycharm": {
     "name": "#%%\n"
    }
   }
  },
  {
   "cell_type": "code",
   "execution_count": 12,
   "outputs": [
    {
     "name": "stdout",
     "output_type": "stream",
     "text": [
      "The number of feature, for each image, is 75600\n"
     ]
    }
   ],
   "source": [
    "#choices of the feature size\n",
    "\n",
    "target_ar = 0.62\n",
    "target_w = 175\n",
    "target_h = int(target_w*target_ar)\n",
    "\n",
    "print(\"The number of feature, for each image, is {}\".format(\n",
    "    target_w*target_h*4\n",
    "))"
   ],
   "metadata": {
    "collapsed": false,
    "pycharm": {
     "name": "#%%\n"
    }
   }
  },
  {
   "cell_type": "code",
   "execution_count": 13,
   "outputs": [
    {
     "name": "stderr",
     "output_type": "stream",
     "text": [
      "100%|██████████| 5575/5575 [04:16<00:00, 21.73it/s]\n"
     ]
    }
   ],
   "source": [
    "# first choice: load the dat directly from the dataset\n",
    "X = data.image_path.to_list()\n",
    "\n",
    "A_total = extract_images(paths=X, target_w=target_w, target_h=target_h, target_ar=target_ar)"
   ],
   "metadata": {
    "collapsed": false,
    "pycharm": {
     "name": "#%%\n"
    }
   }
  },
  {
   "cell_type": "markdown",
   "source": [
    "### second choice: load the data from the .csv (faster!!)\n",
    "\n",
    "#df_A_total = pd.DataFrame(A_total)\n",
    "#df_A_total.to_csv(\"raw_images.csv\", index=False)\n",
    "\n",
    "df_A_total = pd.read_csv(\"raw_images.csv\")\n",
    "A_total = df_A_total.to_numpy()\n",
    "\n",
    "del df_A_total"
   ],
   "metadata": {
    "collapsed": false,
    "pycharm": {
     "name": "#%% md\n"
    }
   },
   "execution_count": 14
  },
  {
   "cell_type": "code",
   "execution_count": 71,
   "outputs": [
    {
     "name": "stdout",
     "output_type": "stream",
     "text": [
      "I will use 4460 images to train the model and 1115 images to validate it\n"
     ]
    }
   ],
   "source": [
    "test_size = 0.2\n",
    "\n",
    "X = data.image_path.to_list()\n",
    "y = [(cat, color) for cat, color in zip(data.category.to_list(), data.color.to_list())]\n",
    "\n",
    "A_train, A_test, y_train, y_test = train_test_split(A_total.T, y, test_size=test_size, random_state=47)\n",
    "\n",
    "y_test_color = [c for _, c in y_test]\n",
    "y_train_color = [c for _, c in y_train]\n",
    "\n",
    "y_test = [category for category, _ in y_test]\n",
    "y_train = [category for category, _ in y_train]\n",
    "\n",
    "print(\"I will use {} images to train the model and {} images to validate it\".format(\n",
    "    len(A_train), len(A_test)\n",
    "))"
   ],
   "metadata": {
    "collapsed": false,
    "pycharm": {
     "name": "#%%\n"
    }
   }
  },
  {
   "cell_type": "markdown",
   "source": [
    "### Dataset analysis"
   ],
   "metadata": {
    "collapsed": false
   }
  },
  {
   "cell_type": "code",
   "execution_count": 72,
   "outputs": [
    {
     "name": "stderr",
     "output_type": "stream",
     "text": [
      "100%|██████████| 5575/5575 [01:00<00:00, 92.13it/s] \n"
     ]
    }
   ],
   "source": [
    "#help function to convert images in array\n",
    "\n",
    "tmp = []\n",
    "for image_path in tqdm(data.image_path.to_list()):\n",
    "    try:\n",
    "        image = imread(image_path) #it's a numpy array\n",
    "        h, w, channels = image.shape\n",
    "        tmp.append((image_path,w,h))\n",
    "    except:\n",
    "        continue"
   ],
   "metadata": {
    "collapsed": false,
    "pycharm": {
     "name": "#%%\n"
    }
   }
  },
  {
   "cell_type": "code",
   "execution_count": 73,
   "outputs": [
    {
     "data": {
      "text/plain": "[('./visuelle/images/PE19/05081.png', 720, 896),\n ('./visuelle/images/PE19/05082.png', 420, 894),\n ('./visuelle/images/PE19/05083.png', 893, 607),\n ('./visuelle/images/PE19/05084.png', 893, 830),\n ('./visuelle/images/PE19/05085.png', 550, 895),\n ('./visuelle/images/PE19/05086.png', 701, 889),\n ('./visuelle/images/PE19/05087.png', 892, 539),\n ('./visuelle/images/PE19/05088.png', 349, 895),\n ('./visuelle/images/PE19/05089.png', 894, 668),\n ('./visuelle/images/PE19/05090.png', 206, 897),\n ('./visuelle/images/PE19/05091.png', 314, 896),\n ('./visuelle/images/PE19/05092.png', 894, 612),\n ('./visuelle/images/PE19/05093.png', 387, 895),\n ('./visuelle/images/PE19/05094.png', 747, 606),\n ('./visuelle/images/PE19/05095.png', 783, 893),\n ('./visuelle/images/PE19/05096.png', 358, 896),\n ('./visuelle/images/PE19/05097.png', 598, 890),\n ('./visuelle/images/PE19/05098.png', 420, 897),\n ('./visuelle/images/PE19/05099.png', 579, 894),\n ('./visuelle/images/PE19/05100.png', 385, 881),\n ('./visuelle/images/PE19/05101.png', 399, 889),\n ('./visuelle/images/PE19/05102.png', 524, 895),\n ('./visuelle/images/PE19/05103.png', 652, 896),\n ('./visuelle/images/PE19/05104.png', 433, 892),\n ('./visuelle/images/PE19/05105.png', 462, 897),\n ('./visuelle/images/PE19/05106.png', 716, 866),\n ('./visuelle/images/PE19/05107.png', 246, 895),\n ('./visuelle/images/PE19/05108.png', 672, 877),\n ('./visuelle/images/PE19/05109.png', 482, 900),\n ('./visuelle/images/PE19/05110.png', 754, 891),\n ('./visuelle/images/PE19/05111.png', 655, 893),\n ('./visuelle/images/PE19/05112.png', 460, 898),\n ('./visuelle/images/PE19/05113.png', 568, 885),\n ('./visuelle/images/PE19/05114.png', 416, 891),\n ('./visuelle/images/PE19/05115.png', 210, 472),\n ('./visuelle/images/PE19/05116.png', 473, 351),\n ('./visuelle/images/PE19/05117.png', 506, 872),\n ('./visuelle/images/PE19/05118.png', 890, 710),\n ('./visuelle/images/PE19/05119.png', 683, 892),\n ('./visuelle/images/PE19/05120.png', 687, 893),\n ('./visuelle/images/PE19/05121.png', 399, 890),\n ('./visuelle/images/PE19/05122.png', 688, 879),\n ('./visuelle/images/PE19/05123.png', 892, 613),\n ('./visuelle/images/PE19/05124.png', 895, 876),\n ('./visuelle/images/PE19/05125.png', 397, 895),\n ('./visuelle/images/PE19/05126.png', 640, 893),\n ('./visuelle/images/PE19/05127.png', 490, 887),\n ('./visuelle/images/PE19/05128.png', 734, 896),\n ('./visuelle/images/PE19/05129.png', 895, 759),\n ('./visuelle/images/PE19/05130.png', 480, 894),\n ('./visuelle/images/PE19/05131.png', 537, 893),\n ('./visuelle/images/PE19/05132.png', 673, 893),\n ('./visuelle/images/PE19/05133.png', 892, 722),\n ('./visuelle/images/PE19/05134.png', 885, 895),\n ('./visuelle/images/PE19/05135.png', 511, 898),\n ('./visuelle/images/PE19/05136.png', 392, 894),\n ('./visuelle/images/PE19/05137.png', 888, 770),\n ('./visuelle/images/PE19/05138.png', 542, 891),\n ('./visuelle/images/PE19/05139.png', 743, 893),\n ('./visuelle/images/PE19/05140.png', 687, 893),\n ('./visuelle/images/PE19/05141.png', 891, 854),\n ('./visuelle/images/PE19/05142.png', 622, 894),\n ('./visuelle/images/PE19/05143.png', 305, 476),\n ('./visuelle/images/PE19/05144.png', 598, 893),\n ('./visuelle/images/PE19/05145.png', 506, 896),\n ('./visuelle/images/PE19/05146.png', 398, 893),\n ('./visuelle/images/PE19/05147.png', 303, 474),\n ('./visuelle/images/PE19/05148.png', 877, 891),\n ('./visuelle/images/PE19/05149.png', 324, 478),\n ('./visuelle/images/PE19/05150.png', 504, 872),\n ('./visuelle/images/PE19/05151.png', 660, 892),\n ('./visuelle/images/PE19/05152.png', 317, 475),\n ('./visuelle/images/PE19/05153.png', 471, 893),\n ('./visuelle/images/PE19/05154.png', 894, 752),\n ('./visuelle/images/PE19/05155.png', 407, 893),\n ('./visuelle/images/PE19/05156.png', 637, 867),\n ('./visuelle/images/PE19/05157.png', 892, 777),\n ('./visuelle/images/PE19/05158.png', 640, 893),\n ('./visuelle/images/PE19/05159.png', 511, 896),\n ('./visuelle/images/PE19/05160.png', 631, 891),\n ('./visuelle/images/PE19/05161.png', 500, 889),\n ('./visuelle/images/PE19/05162.png', 705, 893),\n ('./visuelle/images/PE19/05163.png', 403, 882),\n ('./visuelle/images/PE19/05164.png', 662, 888),\n ('./visuelle/images/PE19/05165.png', 864, 862),\n ('./visuelle/images/PE19/05166.png', 380, 897),\n ('./visuelle/images/PE19/05167.png', 896, 753),\n ('./visuelle/images/PE19/05168.png', 893, 773),\n ('./visuelle/images/PE19/05169.png', 380, 877),\n ('./visuelle/images/PE19/05170.png', 376, 889),\n ('./visuelle/images/PE19/05171.png', 894, 651),\n ('./visuelle/images/PE19/05172.png', 337, 893),\n ('./visuelle/images/PE19/05173.png', 895, 621),\n ('./visuelle/images/PE19/05174.png', 890, 854),\n ('./visuelle/images/PE19/05175.png', 424, 896),\n ('./visuelle/images/PE19/05176.png', 313, 826),\n ('./visuelle/images/PE19/05177.png', 893, 624),\n ('./visuelle/images/PE19/05178.png', 412, 892),\n ('./visuelle/images/PE19/05179.png', 798, 896),\n ('./visuelle/images/PE19/05180.png', 333, 896),\n ('./visuelle/images/PE19/05181.png', 893, 686),\n ('./visuelle/images/PE19/05182.png', 891, 709),\n ('./visuelle/images/PE19/05183.png', 692, 893),\n ('./visuelle/images/PE19/05184.png', 894, 689),\n ('./visuelle/images/PE19/05185.png', 432, 893),\n ('./visuelle/images/PE19/05186.png', 478, 886),\n ('./visuelle/images/PE19/05187.png', 421, 890),\n ('./visuelle/images/PE19/05188.png', 895, 886),\n ('./visuelle/images/PE19/05189.png', 396, 891),\n ('./visuelle/images/PE19/05190.png', 894, 657),\n ('./visuelle/images/PE19/05191.png', 895, 623),\n ('./visuelle/images/PE19/05192.png', 586, 894),\n ('./visuelle/images/PE19/05193.png', 257, 897),\n ('./visuelle/images/PE19/05194.png', 897, 780),\n ('./visuelle/images/PE19/05195.png', 827, 891),\n ('./visuelle/images/PE19/05196.png', 525, 894),\n ('./visuelle/images/PE19/05197.png', 789, 889),\n ('./visuelle/images/PE19/05198.png', 386, 894),\n ('./visuelle/images/PE19/05199.png', 887, 818),\n ('./visuelle/images/PE19/05200.png', 892, 850),\n ('./visuelle/images/PE19/05201.png', 260, 894),\n ('./visuelle/images/PE19/05202.png', 883, 719),\n ('./visuelle/images/PE19/05203.png', 587, 891),\n ('./visuelle/images/PE19/05204.png', 535, 887),\n ('./visuelle/images/PE19/05205.png', 892, 721),\n ('./visuelle/images/PE19/05206.png', 883, 764),\n ('./visuelle/images/PE19/05207.png', 559, 895),\n ('./visuelle/images/PE19/05208.png', 892, 831),\n ('./visuelle/images/PE19/05209.png', 826, 892),\n ('./visuelle/images/PE19/05210.png', 331, 892),\n ('./visuelle/images/PE19/05211.png', 464, 896),\n ('./visuelle/images/PE19/05212.png', 373, 876),\n ('./visuelle/images/PE19/05213.png', 398, 885),\n ('./visuelle/images/PE19/05214.png', 805, 892),\n ('./visuelle/images/PE19/05215.png', 407, 897),\n ('./visuelle/images/PE19/05216.png', 643, 896),\n ('./visuelle/images/PE19/05217.png', 605, 891),\n ('./visuelle/images/PE19/05218.png', 772, 847),\n ('./visuelle/images/PE19/05219.png', 420, 894),\n ('./visuelle/images/PE19/05220.png', 389, 885),\n ('./visuelle/images/PE19/05221.png', 469, 894),\n ('./visuelle/images/PE19/05222.png', 575, 894),\n ('./visuelle/images/PE19/05223.png', 674, 898),\n ('./visuelle/images/PE19/05224.png', 891, 793),\n ('./visuelle/images/PE19/05225.png', 497, 893),\n ('./visuelle/images/PE19/05226.png', 390, 896),\n ('./visuelle/images/PE19/05227.png', 600, 882),\n ('./visuelle/images/PE19/05228.png', 564, 891),\n ('./visuelle/images/PE19/05229.png', 827, 889),\n ('./visuelle/images/PE19/05230.png', 798, 888),\n ('./visuelle/images/PE19/05231.png', 683, 895),\n ('./visuelle/images/PE19/05232.png', 626, 890),\n ('./visuelle/images/PE19/05233.png', 897, 571),\n ('./visuelle/images/PE19/05234.png', 847, 892),\n ('./visuelle/images/PE19/05235.png', 580, 892),\n ('./visuelle/images/PE19/05236.png', 688, 893),\n ('./visuelle/images/PE19/05237.png', 662, 882),\n ('./visuelle/images/PE19/05238.png', 893, 768),\n ('./visuelle/images/PE19/05239.png', 892, 880),\n ('./visuelle/images/PE19/05240.png', 889, 762),\n ('./visuelle/images/PE19/05241.png', 895, 832),\n ('./visuelle/images/PE19/05242.png', 650, 895),\n ('./visuelle/images/PE19/05243.png', 890, 674),\n ('./visuelle/images/PE19/05244.png', 869, 893),\n ('./visuelle/images/PE19/05245.png', 389, 895),\n ('./visuelle/images/PE19/05246.png', 888, 712),\n ('./visuelle/images/PE19/05247.png', 739, 894),\n ('./visuelle/images/PE19/05248.png', 892, 702),\n ('./visuelle/images/PE19/05249.png', 388, 889),\n ('./visuelle/images/PE19/05250.png', 260, 889),\n ('./visuelle/images/PE19/05251.png', 403, 894),\n ('./visuelle/images/PE19/05252.png', 554, 891),\n ('./visuelle/images/PE19/05253.png', 343, 900),\n ('./visuelle/images/PE19/05254.png', 651, 893),\n ('./visuelle/images/PE19/05255.png', 546, 893),\n ('./visuelle/images/PE19/05256.png', 893, 795),\n ('./visuelle/images/PE19/05257.png', 511, 895),\n ('./visuelle/images/PE19/05258.png', 452, 897),\n ('./visuelle/images/PE19/05259.png', 622, 896),\n ('./visuelle/images/PE19/05260.png', 397, 893),\n ('./visuelle/images/PE19/05261.png', 390, 894),\n ('./visuelle/images/PE19/05262.png', 504, 900),\n ('./visuelle/images/PE19/05263.png', 436, 894),\n ('./visuelle/images/PE19/05264.png', 660, 875),\n ('./visuelle/images/PE19/05265.png', 889, 856),\n ('./visuelle/images/PE19/05266.png', 646, 889),\n ('./visuelle/images/PE19/05267.png', 466, 894),\n ('./visuelle/images/PE19/05268.png', 661, 892),\n ('./visuelle/images/PE19/05269.png', 566, 895),\n ('./visuelle/images/PE19/05270.png', 458, 890),\n ('./visuelle/images/PE19/05271.png', 892, 874),\n ('./visuelle/images/PE19/05272.png', 890, 758),\n ('./visuelle/images/PE19/05273.png', 669, 890),\n ('./visuelle/images/PE19/05274.png', 809, 894),\n ('./visuelle/images/PE19/05275.png', 840, 888),\n ('./visuelle/images/PE19/05276.png', 501, 893),\n ('./visuelle/images/PE19/05277.png', 417, 894),\n ('./visuelle/images/PE19/05278.png', 892, 584),\n ('./visuelle/images/PE19/05279.png', 607, 900),\n ('./visuelle/images/PE19/05280.png', 661, 889),\n ('./visuelle/images/PE19/05281.png', 894, 827),\n ('./visuelle/images/PE19/05282.png', 800, 888),\n ('./visuelle/images/PE19/05283.png', 891, 738),\n ('./visuelle/images/PE19/05284.png', 296, 890),\n ('./visuelle/images/PE19/05285.png', 594, 868),\n ('./visuelle/images/PE19/05286.png', 890, 771),\n ('./visuelle/images/PE19/05287.png', 890, 779),\n ('./visuelle/images/PE19/05288.png', 667, 891),\n ('./visuelle/images/PE19/05289.png', 756, 896),\n ('./visuelle/images/PE19/05290.png', 696, 896),\n ('./visuelle/images/PE19/05291.png', 689, 892),\n ('./visuelle/images/PE19/05292.png', 894, 799),\n ('./visuelle/images/PE19/05293.png', 628, 892),\n ('./visuelle/images/PE19/05294.png', 893, 726),\n ('./visuelle/images/PE19/05295.png', 405, 900),\n ('./visuelle/images/PE19/05296.png', 392, 898),\n ('./visuelle/images/PE19/05297.png', 332, 895),\n ('./visuelle/images/PE19/05298.png', 538, 898),\n ('./visuelle/images/PE19/05299.png', 890, 820),\n ('./visuelle/images/PE19/05300.png', 697, 889),\n ('./visuelle/images/PE19/05301.png', 893, 687),\n ('./visuelle/images/PE19/05302.png', 895, 794),\n ('./visuelle/images/PE19/05303.png', 526, 894),\n ('./visuelle/images/PE19/05304.png', 419, 883),\n ('./visuelle/images/PE19/05305.png', 406, 899),\n ('./visuelle/images/PE19/05306.png', 763, 890),\n ('./visuelle/images/PE19/05307.png', 452, 894),\n ('./visuelle/images/PE19/05308.png', 385, 892),\n ('./visuelle/images/PE19/05309.png', 674, 892),\n ('./visuelle/images/PE19/05310.png', 895, 615),\n ('./visuelle/images/PE19/05311.png', 324, 897),\n ('./visuelle/images/PE19/05312.png', 892, 866),\n ('./visuelle/images/PE19/05313.png', 893, 849),\n ('./visuelle/images/PE19/05314.png', 827, 888),\n ('./visuelle/images/PE19/05315.png', 750, 896),\n ('./visuelle/images/PE19/05316.png', 450, 886),\n ('./visuelle/images/PE19/05317.png', 783, 894),\n ('./visuelle/images/PE19/05318.png', 330, 900),\n ('./visuelle/images/PE19/05319.png', 674, 877),\n ('./visuelle/images/PE19/05320.png', 781, 891),\n ('./visuelle/images/PE19/05321.png', 891, 885),\n ('./visuelle/images/PE19/05322.png', 604, 900),\n ('./visuelle/images/PE19/05323.png', 760, 891),\n ('./visuelle/images/PE19/05324.png', 890, 642),\n ('./visuelle/images/PE19/05325.png', 706, 897),\n ('./visuelle/images/PE19/05326.png', 892, 742),\n ('./visuelle/images/PE19/05327.png', 624, 897),\n ('./visuelle/images/PE19/05328.png', 600, 893),\n ('./visuelle/images/PE19/05329.png', 537, 894),\n ('./visuelle/images/PE19/05330.png', 711, 857),\n ('./visuelle/images/AI19/05331.png', 590, 897),\n ('./visuelle/images/AI19/05332.png', 895, 790),\n ('./visuelle/images/AI19/05333.png', 893, 822),\n ('./visuelle/images/AI19/05334.png', 890, 462),\n ('./visuelle/images/AI19/05335.png', 502, 894),\n ('./visuelle/images/AI19/05336.png', 892, 586),\n ('./visuelle/images/AI19/05337.png', 900, 457),\n ('./visuelle/images/AI19/05338.png', 897, 498),\n ('./visuelle/images/AI19/05339.png', 895, 573),\n ('./visuelle/images/AI19/05340.png', 687, 893),\n ('./visuelle/images/AI19/05341.png', 897, 504),\n ('./visuelle/images/AI19/05342.png', 883, 663),\n ('./visuelle/images/AI19/05343.png', 893, 562),\n ('./visuelle/images/AI19/05344.png', 895, 808),\n ('./visuelle/images/AI19/05345.png', 556, 887),\n ('./visuelle/images/AI19/05346.png', 556, 804),\n ('./visuelle/images/AI19/05347.png', 886, 521),\n ('./visuelle/images/AI19/05348.png', 320, 560),\n ('./visuelle/images/AI19/05349.png', 429, 889),\n ('./visuelle/images/AI19/05350.png', 894, 611),\n ('./visuelle/images/AI19/05351.png', 897, 454),\n ('./visuelle/images/AI19/05352.png', 895, 482),\n ('./visuelle/images/AI19/05353.png', 887, 448),\n ('./visuelle/images/AI19/05354.png', 895, 809),\n ('./visuelle/images/AI19/05355.png', 894, 500),\n ('./visuelle/images/AI19/05356.png', 894, 704),\n ('./visuelle/images/AI19/05357.png', 730, 460),\n ('./visuelle/images/AI19/05358.png', 883, 489),\n ('./visuelle/images/AI19/05359.png', 489, 895),\n ('./visuelle/images/AI19/05360.png', 891, 629),\n ('./visuelle/images/AI19/05361.png', 896, 524),\n ('./visuelle/images/AI19/05362.png', 721, 470),\n ('./visuelle/images/AI19/05363.png', 899, 595),\n ('./visuelle/images/AI19/05364.png', 893, 552),\n ('./visuelle/images/AI19/05365.png', 360, 894),\n ('./visuelle/images/AI19/05366.png', 890, 586),\n ('./visuelle/images/AI19/05367.png', 892, 472),\n ('./visuelle/images/AI19/05368.png', 895, 540),\n ('./visuelle/images/AI19/05369.png', 895, 362),\n ('./visuelle/images/AI19/05370.png', 898, 502),\n ('./visuelle/images/AI19/05371.png', 891, 494),\n ('./visuelle/images/AI19/05372.png', 363, 414),\n ('./visuelle/images/AI19/05373.png', 879, 890),\n ('./visuelle/images/AI19/05374.png', 895, 472),\n ('./visuelle/images/AI19/05375.png', 894, 462),\n ('./visuelle/images/AI19/05376.png', 757, 889),\n ('./visuelle/images/AI19/05377.png', 895, 692),\n ('./visuelle/images/AI19/05378.png', 894, 742),\n ('./visuelle/images/AI19/05379.png', 704, 886),\n ('./visuelle/images/AI19/05380.png', 892, 694),\n ('./visuelle/images/AI19/05381.png', 897, 475),\n ('./visuelle/images/AI19/05382.png', 895, 645),\n ('./visuelle/images/AI19/05383.png', 431, 894),\n ('./visuelle/images/AI19/05384.png', 574, 885),\n ('./visuelle/images/AI19/05385.png', 578, 894),\n ('./visuelle/images/AI19/05386.png', 758, 545),\n ('./visuelle/images/AI19/05387.png', 893, 574),\n ('./visuelle/images/AI19/05388.png', 892, 581),\n ('./visuelle/images/AI19/05389.png', 703, 569),\n ('./visuelle/images/AI19/05390.png', 894, 692),\n ('./visuelle/images/AI19/05391.png', 894, 670),\n ('./visuelle/images/AI19/05392.png', 893, 625),\n ('./visuelle/images/AI19/05393.png', 896, 556),\n ('./visuelle/images/AI19/05394.png', 512, 890),\n ('./visuelle/images/AI19/05395.png', 895, 813),\n ('./visuelle/images/AI19/05396.png', 894, 635),\n ('./visuelle/images/AI19/05397.png', 897, 623),\n ('./visuelle/images/AI19/05398.png', 895, 868),\n ('./visuelle/images/AI19/05399.png', 893, 616),\n ('./visuelle/images/AI19/05400.png', 894, 674),\n ('./visuelle/images/AI19/05401.png', 894, 749),\n ('./visuelle/images/AI19/05402.png', 896, 429),\n ('./visuelle/images/AI19/05403.png', 894, 785),\n ('./visuelle/images/AI19/05404.png', 896, 590),\n ('./visuelle/images/AI19/05405.png', 676, 886),\n ('./visuelle/images/AI19/05406.png', 856, 894),\n ('./visuelle/images/AI19/05407.png', 894, 623),\n ('./visuelle/images/AI19/05408.png', 895, 849),\n ('./visuelle/images/AI19/05409.png', 380, 894),\n ('./visuelle/images/AI19/05410.png', 479, 872),\n ('./visuelle/images/AI19/05411.png', 548, 883),\n ('./visuelle/images/AI19/05412.png', 892, 647),\n ('./visuelle/images/AI19/05413.png', 897, 455),\n ('./visuelle/images/AI19/05414.png', 897, 503),\n ('./visuelle/images/AI19/05415.png', 893, 529),\n ('./visuelle/images/AI19/05416.png', 895, 756),\n ('./visuelle/images/AI19/05417.png', 893, 586),\n ('./visuelle/images/AI19/05418.png', 897, 389),\n ('./visuelle/images/AI19/05419.png', 408, 882),\n ('./visuelle/images/AI19/05420.png', 894, 527),\n ('./visuelle/images/AI19/05421.png', 894, 500),\n ('./visuelle/images/AI19/05422.png', 893, 612),\n ('./visuelle/images/AI19/05423.png', 893, 546),\n ('./visuelle/images/AI19/05424.png', 672, 522),\n ('./visuelle/images/AI19/05425.png', 894, 597),\n ('./visuelle/images/AI19/05426.png', 893, 721),\n ('./visuelle/images/AI19/05427.png', 892, 690),\n ('./visuelle/images/AI19/05428.png', 710, 897),\n ('./visuelle/images/AI19/05429.png', 887, 796),\n ('./visuelle/images/AI19/05430.png', 891, 559),\n ('./visuelle/images/AI19/05431.png', 896, 604),\n ('./visuelle/images/AI19/05432.png', 893, 602),\n ('./visuelle/images/AI19/05433.png', 844, 889),\n ('./visuelle/images/AI19/05434.png', 514, 894),\n ('./visuelle/images/AI19/05435.png', 888, 528),\n ('./visuelle/images/AI19/05436.png', 897, 699),\n ('./visuelle/images/AI19/05437.png', 893, 597),\n ('./visuelle/images/AI19/05438.png', 897, 405),\n ('./visuelle/images/AI19/05439.png', 897, 585),\n ('./visuelle/images/AI19/05440.png', 572, 891),\n ('./visuelle/images/AI19/05441.png', 568, 891),\n ('./visuelle/images/AI19/05442.png', 877, 574),\n ('./visuelle/images/AI19/05443.png', 780, 883),\n ('./visuelle/images/AI19/05444.png', 898, 646),\n ('./visuelle/images/AI19/05445.png', 574, 899),\n ('./visuelle/images/AI19/05446.png', 897, 538),\n ('./visuelle/images/AI19/05447.png', 693, 889),\n ('./visuelle/images/AI19/05448.png', 717, 886),\n ('./visuelle/images/AI19/05449.png', 671, 895),\n ('./visuelle/images/AI19/05450.png', 736, 893),\n ('./visuelle/images/AI19/05451.png', 707, 897),\n ('./visuelle/images/AI19/05452.png', 859, 889),\n ('./visuelle/images/AI19/05453.png', 741, 893),\n ('./visuelle/images/AI19/05454.png', 465, 896),\n ('./visuelle/images/AI19/05455.png', 895, 714),\n ('./visuelle/images/AI19/05456.png', 894, 533),\n ('./visuelle/images/AI19/05457.png', 890, 811),\n ('./visuelle/images/AI19/05458.png', 395, 892),\n ('./visuelle/images/AI19/05459.png', 553, 893),\n ('./visuelle/images/AI19/05460.png', 884, 689),\n ('./visuelle/images/AI19/05461.png', 810, 880),\n ('./visuelle/images/AI19/05462.png', 721, 892),\n ('./visuelle/images/AI19/05463.png', 308, 894),\n ('./visuelle/images/AI19/05464.png', 325, 885),\n ('./visuelle/images/AI19/05465.png', 634, 895),\n ('./visuelle/images/AI19/05466.png', 897, 600),\n ('./visuelle/images/AI19/05467.png', 690, 888),\n ('./visuelle/images/AI19/05468.png', 663, 895),\n ('./visuelle/images/AI19/05469.png', 890, 810),\n ('./visuelle/images/AI19/05470.png', 896, 693),\n ('./visuelle/images/AI19/05471.png', 899, 836),\n ('./visuelle/images/AI19/05472.png', 285, 376),\n ('./visuelle/images/AI19/05473.png', 337, 895),\n ('./visuelle/images/AI19/05474.png', 654, 890),\n ('./visuelle/images/AI19/05475.png', 331, 895),\n ('./visuelle/images/AI19/05476.png', 832, 893),\n ('./visuelle/images/AI19/05477.png', 893, 653),\n ('./visuelle/images/AI19/05478.png', 894, 410),\n ('./visuelle/images/AI19/05479.png', 892, 878),\n ('./visuelle/images/AI19/05480.png', 898, 520),\n ('./visuelle/images/AI19/05481.png', 893, 519),\n ('./visuelle/images/AI19/05482.png', 624, 883),\n ('./visuelle/images/AI19/05483.png', 595, 858),\n ('./visuelle/images/AI19/05484.png', 893, 605),\n ('./visuelle/images/AI19/05485.png', 439, 893),\n ('./visuelle/images/AI19/05486.png', 894, 432),\n ('./visuelle/images/AI19/05487.png', 897, 516),\n ('./visuelle/images/AI19/05488.png', 896, 479),\n ('./visuelle/images/AI19/05489.png', 893, 864),\n ('./visuelle/images/AI19/05490.png', 371, 893),\n ('./visuelle/images/AI19/05491.png', 895, 392),\n ('./visuelle/images/AI19/05492.png', 545, 896),\n ('./visuelle/images/AI19/05493.png', 493, 891),\n ('./visuelle/images/AI19/05494.png', 897, 847),\n ('./visuelle/images/AI19/05495.png', 753, 627),\n ('./visuelle/images/AI19/05496.png', 894, 476),\n ('./visuelle/images/AI19/05497.png', 894, 861),\n ('./visuelle/images/AI19/05498.png', 887, 820),\n ('./visuelle/images/AI19/05499.png', 896, 443),\n ('./visuelle/images/AI19/05500.png', 387, 895),\n ('./visuelle/images/AI19/05501.png', 492, 896),\n ('./visuelle/images/AI19/05502.png', 887, 533),\n ('./visuelle/images/AI19/05503.png', 868, 471),\n ('./visuelle/images/AI19/05504.png', 803, 883),\n ('./visuelle/images/AI19/05505.png', 481, 891),\n ('./visuelle/images/AI19/05506.png', 893, 503),\n ('./visuelle/images/AI19/05507.png', 894, 624),\n ('./visuelle/images/AI19/05508.png', 894, 706),\n ('./visuelle/images/AI19/05509.png', 887, 670),\n ('./visuelle/images/AI19/05510.png', 471, 897),\n ('./visuelle/images/AI19/05511.png', 896, 518),\n ('./visuelle/images/AI19/05512.png', 896, 612),\n ('./visuelle/images/AI19/05513.png', 462, 890),\n ('./visuelle/images/AI19/05514.png', 894, 630),\n ('./visuelle/images/AI19/05515.png', 891, 527),\n ('./visuelle/images/AI19/05516.png', 893, 484),\n ('./visuelle/images/AI19/05517.png', 601, 891),\n ('./visuelle/images/AI19/05518.png', 893, 878),\n ('./visuelle/images/AI19/05519.png', 642, 577),\n ('./visuelle/images/AI19/05520.png', 569, 888),\n ('./visuelle/images/AI19/05521.png', 725, 882),\n ('./visuelle/images/AI19/05522.png', 889, 500),\n ('./visuelle/images/AI19/05523.png', 648, 886),\n ('./visuelle/images/AI19/05524.png', 619, 881),\n ('./visuelle/images/AI19/05525.png', 897, 532),\n ('./visuelle/images/AI19/05526.png', 896, 369),\n ('./visuelle/images/AI19/05527.png', 742, 890),\n ('./visuelle/images/AI19/05528.png', 867, 494),\n ('./visuelle/images/AI19/05529.png', 527, 894),\n ('./visuelle/images/AI19/05530.png', 795, 882),\n ('./visuelle/images/AI19/05531.png', 890, 487),\n ('./visuelle/images/AI19/05532.png', 895, 459),\n ('./visuelle/images/AI19/05533.png', 894, 491),\n ('./visuelle/images/AI19/05534.png', 895, 472),\n ('./visuelle/images/AI19/05535.png', 893, 495),\n ('./visuelle/images/AI19/05536.png', 797, 893),\n ('./visuelle/images/AI19/05537.png', 894, 618),\n ('./visuelle/images/AI19/05538.png', 891, 509),\n ('./visuelle/images/AI19/05539.png', 593, 883),\n ('./visuelle/images/AI19/05540.png', 396, 890),\n ('./visuelle/images/AI19/05541.png', 898, 403),\n ('./visuelle/images/AI19/05542.png', 886, 472),\n ('./visuelle/images/AI19/05543.png', 895, 511),\n ('./visuelle/images/AI19/05544.png', 897, 492),\n ('./visuelle/images/AI19/05545.png', 815, 894),\n ('./visuelle/images/AI19/05546.png', 880, 716),\n ('./visuelle/images/AI19/05547.png', 898, 501),\n ('./visuelle/images/AI19/05548.png', 885, 420),\n ('./visuelle/images/AI19/05549.png', 895, 856),\n ('./visuelle/images/AI19/05550.png', 894, 583),\n ('./visuelle/images/AI19/05551.png', 897, 616),\n ('./visuelle/images/AI19/05552.png', 894, 702),\n ('./visuelle/images/AI19/05553.png', 895, 848),\n ('./visuelle/images/AI19/05554.png', 895, 820),\n ('./visuelle/images/AI19/05555.png', 612, 893),\n ('./visuelle/images/AI19/05556.png', 897, 555),\n ('./visuelle/images/AI19/05557.png', 879, 868),\n ('./visuelle/images/AI19/05558.png', 780, 893),\n ('./visuelle/images/AI19/05559.png', 814, 892),\n ('./visuelle/images/AI19/05560.png', 871, 885),\n ('./visuelle/images/AI19/05561.png', 897, 614),\n ('./visuelle/images/AI19/05562.png', 573, 898),\n ('./visuelle/images/AI19/05563.png', 894, 608),\n ('./visuelle/images/AI19/05564.png', 896, 629),\n ('./visuelle/images/AI19/05565.png', 894, 602),\n ('./visuelle/images/AI19/05566.png', 894, 644),\n ('./visuelle/images/AI19/05567.png', 892, 618),\n ('./visuelle/images/AI19/05568.png', 897, 688),\n ('./visuelle/images/AI19/05569.png', 572, 900),\n ('./visuelle/images/AI19/05570.png', 589, 896),\n ('./visuelle/images/AI19/05571.png', 409, 422),\n ('./visuelle/images/AI19/05572.png', 687, 892),\n ('./visuelle/images/AI19/05573.png', 897, 841),\n ('./visuelle/images/AI19/05574.png', 898, 776),\n ('./visuelle/images/AI19/05575.png', 890, 753),\n ('./visuelle/images/AI19/05576.png', 438, 892),\n ('./visuelle/images/AI19/05577.png', 896, 819),\n ('./visuelle/images/PE17/00001.png', 403, 417),\n ('./visuelle/images/PE17/00002.png', 360, 367),\n ('./visuelle/images/PE17/00003.png', 181, 490),\n ('./visuelle/images/PE17/00004.png', 322, 376),\n ('./visuelle/images/PE17/00005.png', 404, 409),\n ('./visuelle/images/PE17/00006.png', 382, 371),\n ('./visuelle/images/PE17/00007.png', 366, 390),\n ('./visuelle/images/PE17/00008.png', 335, 377),\n ('./visuelle/images/PE17/00009.png', 173, 483),\n ('./visuelle/images/PE17/00010.png', 297, 286),\n ('./visuelle/images/PE17/00011.png', 298, 333),\n ('./visuelle/images/PE17/00012.png', 361, 389),\n ('./visuelle/images/PE17/00013.png', 349, 375),\n ('./visuelle/images/PE17/00014.png', 301, 413),\n ('./visuelle/images/PE17/00015.png', 299, 342),\n ('./visuelle/images/PE17/00016.png', 256, 357),\n ('./visuelle/images/PE17/00017.png', 305, 342),\n ('./visuelle/images/PE17/00018.png', 320, 405),\n ('./visuelle/images/PE17/00019.png', 331, 368),\n ('./visuelle/images/PE17/00020.png', 298, 344),\n ('./visuelle/images/PE17/00021.png', 342, 389),\n ('./visuelle/images/PE17/00022.png', 346, 374),\n ('./visuelle/images/PE17/00023.png', 284, 216),\n ('./visuelle/images/PE17/00024.png', 294, 404),\n ('./visuelle/images/PE17/00025.png', 445, 506),\n ('./visuelle/images/PE17/00026.png', 334, 493),\n ('./visuelle/images/PE17/00027.png', 292, 397),\n ('./visuelle/images/PE17/00028.png', 340, 480),\n ('./visuelle/images/PE17/00029.png', 245, 351),\n ('./visuelle/images/PE17/00030.png', 348, 463),\n ('./visuelle/images/PE17/00031.png', 375, 330),\n ('./visuelle/images/PE17/00032.png', 451, 665),\n ('./visuelle/images/PE17/00033.png', 155, 508),\n ('./visuelle/images/PE17/00034.png', 303, 514),\n ('./visuelle/images/PE17/00035.png', 369, 434),\n ('./visuelle/images/PE17/00036.png', 323, 449),\n ('./visuelle/images/PE17/00037.png', 253, 440),\n ('./visuelle/images/PE17/00038.png', 398, 292),\n ('./visuelle/images/PE17/00039.png', 287, 508),\n ('./visuelle/images/PE17/00040.png', 358, 446),\n ('./visuelle/images/PE17/00041.png', 288, 351),\n ('./visuelle/images/PE17/00042.png', 289, 541),\n ('./visuelle/images/PE17/00043.png', 449, 326),\n ('./visuelle/images/PE17/00044.png', 269, 342),\n ('./visuelle/images/PE17/00045.png', 270, 341),\n ('./visuelle/images/PE17/00046.png', 259, 459),\n ('./visuelle/images/PE17/00047.png', 144, 519),\n ('./visuelle/images/PE17/00048.png', 406, 439),\n ('./visuelle/images/PE17/00049.png', 420, 434),\n ('./visuelle/images/PE17/00050.png', 302, 436),\n ('./visuelle/images/PE17/00051.png', 347, 439),\n ('./visuelle/images/PE17/00052.png', 363, 507),\n ('./visuelle/images/PE17/00053.png', 431, 338),\n ('./visuelle/images/PE17/00054.png', 287, 385),\n ('./visuelle/images/PE17/00055.png', 154, 380),\n ('./visuelle/images/PE17/00056.png', 232, 496),\n ('./visuelle/images/PE17/00057.png', 330, 382),\n ('./visuelle/images/PE17/00058.png', 305, 342),\n ('./visuelle/images/PE17/00059.png', 290, 372),\n ('./visuelle/images/PE17/00060.png', 474, 615),\n ('./visuelle/images/PE17/00061.png', 245, 504),\n ('./visuelle/images/PE17/00062.png', 416, 356),\n ('./visuelle/images/PE17/00063.png', 314, 458),\n ('./visuelle/images/PE17/00064.png', 284, 433),\n ('./visuelle/images/PE17/00065.png', 256, 377),\n ('./visuelle/images/PE17/00066.png', 303, 545),\n ('./visuelle/images/PE17/00067.png', 380, 431),\n ('./visuelle/images/PE17/00068.png', 319, 321),\n ('./visuelle/images/PE17/00069.png', 260, 408),\n ('./visuelle/images/PE17/00070.png', 286, 362),\n ('./visuelle/images/PE17/00071.png', 527, 621),\n ('./visuelle/images/PE17/00072.png', 272, 514),\n ('./visuelle/images/PE17/00073.png', 291, 430),\n ('./visuelle/images/PE17/00074.png', 211, 484),\n ('./visuelle/images/PE17/00075.png', 215, 504),\n ('./visuelle/images/PE17/00076.png', 289, 399),\n ('./visuelle/images/PE17/00077.png', 201, 418),\n ('./visuelle/images/PE17/00078.png', 420, 389),\n ('./visuelle/images/PE17/00079.png', 447, 571),\n ('./visuelle/images/PE17/00080.png', 236, 355),\n ('./visuelle/images/PE17/00081.png', 234, 364),\n ('./visuelle/images/PE17/00082.png', 249, 381),\n ('./visuelle/images/PE17/00083.png', 374, 345),\n ('./visuelle/images/PE17/00084.png', 179, 382),\n ('./visuelle/images/PE17/00085.png', 302, 263),\n ('./visuelle/images/PE17/00086.png', 395, 398),\n ('./visuelle/images/PE17/00087.png', 326, 657),\n ('./visuelle/images/PE17/00088.png', 320, 505),\n ('./visuelle/images/PE17/00089.png', 268, 321),\n ('./visuelle/images/PE17/00090.png', 281, 382),\n ('./visuelle/images/PE17/00091.png', 550, 583),\n ('./visuelle/images/PE17/00092.png', 350, 517),\n ('./visuelle/images/PE17/00093.png', 303, 387),\n ('./visuelle/images/PE17/00094.png', 256, 500),\n ('./visuelle/images/PE17/00095.png', 254, 372),\n ('./visuelle/images/PE17/00096.png', 557, 554),\n ('./visuelle/images/PE17/00097.png', 440, 583),\n ('./visuelle/images/PE17/00098.png', 188, 315),\n ('./visuelle/images/PE17/00099.png', 329, 342),\n ('./visuelle/images/PE17/00100.png', 309, 454),\n ('./visuelle/images/PE17/00101.png', 393, 613),\n ('./visuelle/images/PE17/00102.png', 146, 370),\n ('./visuelle/images/PE17/00103.png', 185, 360),\n ('./visuelle/images/PE17/00104.png', 430, 320),\n ('./visuelle/images/PE17/00105.png', 537, 460),\n ('./visuelle/images/PE17/00106.png', 271, 445),\n ('./visuelle/images/PE17/00107.png', 236, 457),\n ('./visuelle/images/PE17/00108.png', 316, 360),\n ('./visuelle/images/PE17/00109.png', 562, 617),\n ('./visuelle/images/PE17/00110.png', 176, 379),\n ('./visuelle/images/PE17/00111.png', 457, 503),\n ('./visuelle/images/PE17/00112.png', 388, 330),\n ('./visuelle/images/PE17/00113.png', 556, 594),\n ('./visuelle/images/PE17/00114.png', 330, 485),\n ('./visuelle/images/PE17/00115.png', 468, 644),\n ('./visuelle/images/PE17/00116.png', 852, 640),\n ('./visuelle/images/PE17/00117.png', 187, 399),\n ('./visuelle/images/PE17/00118.png', 512, 507),\n ('./visuelle/images/PE17/00119.png', 459, 378),\n ('./visuelle/images/PE17/00120.png', 136, 376),\n ('./visuelle/images/PE17/00121.png', 434, 464),\n ('./visuelle/images/PE17/00122.png', 280, 422),\n ('./visuelle/images/PE17/00123.png', 420, 308),\n ('./visuelle/images/PE17/00124.png', 166, 568),\n ('./visuelle/images/PE17/00125.png', 273, 400),\n ('./visuelle/images/PE17/00126.png', 303, 338),\n ('./visuelle/images/PE17/00127.png', 546, 503),\n ('./visuelle/images/PE17/00128.png', 241, 309),\n ('./visuelle/images/PE17/00129.png', 335, 379),\n ('./visuelle/images/PE17/00130.png', 366, 496),\n ('./visuelle/images/PE17/00131.png', 396, 465),\n ('./visuelle/images/PE17/00132.png', 172, 390),\n ('./visuelle/images/PE17/00133.png', 357, 389),\n ('./visuelle/images/PE17/00134.png', 267, 392),\n ('./visuelle/images/PE17/00135.png', 365, 388),\n ('./visuelle/images/PE17/00136.png', 466, 726),\n ('./visuelle/images/PE17/00137.png', 205, 297),\n ('./visuelle/images/PE17/00138.png', 246, 367),\n ('./visuelle/images/PE17/00139.png', 301, 361),\n ('./visuelle/images/PE17/00140.png', 560, 489),\n ('./visuelle/images/PE17/00141.png', 210, 403),\n ('./visuelle/images/PE17/00142.png', 270, 299),\n ('./visuelle/images/PE17/00143.png', 557, 429),\n ('./visuelle/images/PE17/00144.png', 155, 577),\n ('./visuelle/images/PE17/00145.png', 379, 421),\n ('./visuelle/images/PE17/00146.png', 310, 494),\n ('./visuelle/images/PE17/00147.png', 540, 400),\n ('./visuelle/images/PE17/00148.png', 354, 410),\n ('./visuelle/images/PE17/00149.png', 250, 298),\n ('./visuelle/images/PE17/00150.png', 242, 305),\n ('./visuelle/images/PE17/00151.png', 419, 369),\n ('./visuelle/images/PE17/00152.png', 310, 348),\n ('./visuelle/images/PE17/00153.png', 417, 584),\n ('./visuelle/images/PE17/00154.png', 342, 341),\n ('./visuelle/images/PE17/00155.png', 198, 409),\n ('./visuelle/images/PE17/00156.png', 513, 571),\n ('./visuelle/images/PE17/00157.png', 549, 456),\n ('./visuelle/images/PE17/00158.png', 375, 502),\n ('./visuelle/images/PE17/00159.png', 301, 289),\n ('./visuelle/images/PE17/00160.png', 517, 509),\n ('./visuelle/images/PE17/00161.png', 366, 221),\n ('./visuelle/images/PE17/00162.png', 267, 734),\n ('./visuelle/images/PE17/00163.png', 386, 410),\n ('./visuelle/images/PE17/00164.png', 220, 393),\n ('./visuelle/images/PE17/00165.png', 144, 385),\n ('./visuelle/images/PE17/00166.png', 202, 401),\n ('./visuelle/images/PE17/00167.png', 308, 372),\n ('./visuelle/images/PE17/00168.png', 300, 379),\n ('./visuelle/images/PE17/00169.png', 130, 370),\n ('./visuelle/images/PE17/00170.png', 140, 379),\n ('./visuelle/images/PE17/00171.png', 473, 581),\n ('./visuelle/images/PE17/00172.png', 405, 365),\n ('./visuelle/images/PE17/00173.png', 412, 397),\n ('./visuelle/images/PE17/00174.png', 210, 418),\n ('./visuelle/images/PE17/00175.png', 288, 353),\n ('./visuelle/images/PE17/00176.png', 233, 485),\n ('./visuelle/images/PE17/00177.png', 424, 374),\n ('./visuelle/images/PE17/00178.png', 382, 382),\n ('./visuelle/images/PE17/00179.png', 419, 368),\n ('./visuelle/images/PE17/00180.png', 263, 720),\n ('./visuelle/images/PE17/00181.png', 264, 332),\n ('./visuelle/images/PE17/00182.png', 346, 278),\n ('./visuelle/images/PE17/00183.png', 467, 413),\n ('./visuelle/images/PE17/00184.png', 409, 302),\n ('./visuelle/images/PE17/00185.png', 199, 412),\n ('./visuelle/images/PE17/00186.png', 367, 430),\n ('./visuelle/images/PE17/00187.png', 303, 365),\n ('./visuelle/images/PE17/00188.png', 303, 738),\n ('./visuelle/images/PE17/00189.png', 233, 480),\n ('./visuelle/images/PE17/00190.png', 293, 331),\n ('./visuelle/images/PE17/00191.png', 193, 368),\n ('./visuelle/images/PE17/00192.png', 386, 354),\n ('./visuelle/images/PE17/00193.png', 329, 343),\n ('./visuelle/images/PE17/00194.png', 358, 359),\n ('./visuelle/images/PE17/00195.png', 360, 381),\n ('./visuelle/images/PE17/00196.png', 148, 346),\n ('./visuelle/images/PE17/00197.png', 344, 389),\n ('./visuelle/images/PE17/00198.png', 349, 386),\n ('./visuelle/images/PE17/00199.png', 263, 306),\n ('./visuelle/images/PE17/00200.png', 300, 311),\n ('./visuelle/images/PE17/00201.png', 247, 292),\n ('./visuelle/images/PE17/00202.png', 154, 540),\n ('./visuelle/images/PE17/00203.png', 436, 409),\n ('./visuelle/images/PE17/00204.png', 324, 374),\n ('./visuelle/images/PE17/00205.png', 350, 385),\n ('./visuelle/images/PE17/00206.png', 452, 440),\n ('./visuelle/images/PE17/00207.png', 524, 633),\n ('./visuelle/images/PE17/00208.png', 215, 397),\n ('./visuelle/images/PE17/00209.png', 401, 374),\n ('./visuelle/images/PE17/00210.png', 256, 494),\n ('./visuelle/images/PE17/00211.png', 551, 642),\n ('./visuelle/images/PE17/00212.png', 272, 359),\n ('./visuelle/images/PE17/00213.png', 324, 336),\n ('./visuelle/images/PE17/00214.png', 328, 502),\n ('./visuelle/images/PE17/00215.png', 355, 374),\n ('./visuelle/images/PE17/00216.png', 334, 363),\n ('./visuelle/images/PE17/00217.png', 161, 323),\n ('./visuelle/images/PE17/00218.png', 257, 449),\n ('./visuelle/images/PE17/00219.png', 316, 630),\n ('./visuelle/images/PE17/00220.png', 238, 464),\n ('./visuelle/images/PE17/00221.png', 419, 356),\n ('./visuelle/images/PE17/00222.png', 467, 691),\n ('./visuelle/images/PE17/00223.png', 322, 421),\n ('./visuelle/images/PE17/00224.png', 461, 733),\n ('./visuelle/images/PE17/00225.png', 165, 360),\n ('./visuelle/images/PE17/00226.png', 417, 315),\n ('./visuelle/images/PE17/00227.png', 228, 509),\n ('./visuelle/images/PE17/00228.png', 310, 501),\n ('./visuelle/images/PE17/00229.png', 265, 345),\n ('./visuelle/images/PE17/00230.png', 426, 313),\n ('./visuelle/images/PE17/00231.png', 313, 307),\n ('./visuelle/images/PE17/00232.png', 505, 452),\n ('./visuelle/images/PE17/00233.png', 328, 414),\n ('./visuelle/images/PE17/00234.png', 223, 710),\n ('./visuelle/images/PE17/00235.png', 501, 673),\n ('./visuelle/images/PE17/00236.png', 188, 272),\n ('./visuelle/images/PE17/00237.png', 120, 401),\n ('./visuelle/images/PE17/00238.png', 171, 311),\n ('./visuelle/images/PE17/00239.png', 248, 326),\n ('./visuelle/images/PE17/00240.png', 311, 362),\n ('./visuelle/images/PE17/00241.png', 292, 300),\n ('./visuelle/images/PE17/00242.png', 279, 673),\n ('./visuelle/images/PE17/00243.png', 382, 314),\n ('./visuelle/images/PE17/00244.png', 147, 360),\n ('./visuelle/images/PE17/00245.png', 387, 381),\n ('./visuelle/images/PE17/00246.png', 469, 579),\n ('./visuelle/images/PE17/00247.png', 381, 293),\n ('./visuelle/images/PE17/00248.png', 357, 278),\n ('./visuelle/images/PE17/00249.png', 460, 479),\n ('./visuelle/images/PE17/00250.png', 493, 530),\n ('./visuelle/images/PE17/00251.png', 313, 737),\n ('./visuelle/images/PE17/00252.png', 357, 691),\n ('./visuelle/images/PE17/00253.png', 165, 442),\n ('./visuelle/images/PE17/00254.png', 289, 384),\n ('./visuelle/images/PE17/00255.png', 389, 380),\n ('./visuelle/images/PE17/00256.png', 398, 394),\n ('./visuelle/images/PE17/00257.png', 171, 385),\n ('./visuelle/images/PE17/00258.png', 320, 356),\n ('./visuelle/images/PE17/00259.png', 494, 411),\n ('./visuelle/images/PE17/00260.png', 324, 295),\n ('./visuelle/images/PE17/00261.png', 274, 389),\n ('./visuelle/images/PE17/00262.png', 245, 758),\n ('./visuelle/images/PE17/00263.png', 553, 463),\n ('./visuelle/images/PE17/00264.png', 384, 827),\n ('./visuelle/images/PE17/00265.png', 391, 362),\n ('./visuelle/images/PE17/00266.png', 184, 325),\n ('./visuelle/images/PE17/00267.png', 519, 612),\n ('./visuelle/images/PE17/00268.png', 517, 349),\n ('./visuelle/images/PE17/00269.png', 233, 357),\n ('./visuelle/images/PE17/00270.png', 482, 417),\n ('./visuelle/images/PE17/00271.png', 534, 754),\n ('./visuelle/images/PE17/00272.png', 261, 665),\n ('./visuelle/images/PE17/00273.png', 404, 259),\n ('./visuelle/images/PE17/00274.png', 353, 623),\n ('./visuelle/images/PE17/00275.png', 196, 282),\n ('./visuelle/images/PE17/00276.png', 432, 389),\n ('./visuelle/images/PE17/00277.png', 196, 288),\n ('./visuelle/images/PE17/00278.png', 401, 593),\n ('./visuelle/images/PE17/00279.png', 461, 482),\n ('./visuelle/images/PE17/00280.png', 497, 405),\n ('./visuelle/images/PE17/00281.png', 309, 384),\n ('./visuelle/images/PE17/00282.png', 478, 457),\n ('./visuelle/images/PE17/00283.png', 541, 528),\n ('./visuelle/images/PE17/00284.png', 323, 605),\n ('./visuelle/images/PE17/00285.png', 207, 425),\n ('./visuelle/images/PE17/00286.png', 531, 596),\n ('./visuelle/images/PE17/00287.png', 567, 680),\n ('./visuelle/images/PE17/00288.png', 246, 691),\n ('./visuelle/images/PE17/00289.png', 298, 304),\n ('./visuelle/images/PE17/00290.png', 531, 509),\n ('./visuelle/images/PE17/00291.png', 181, 251),\n ('./visuelle/images/PE17/00292.png', 499, 584),\n ('./visuelle/images/PE17/00293.png', 441, 322),\n ('./visuelle/images/PE17/00294.png', 410, 668),\n ('./visuelle/images/PE17/00295.png', 399, 372),\n ('./visuelle/images/PE17/00296.png', 461, 374),\n ('./visuelle/images/PE17/00297.png', 545, 345),\n ('./visuelle/images/PE17/00298.png', 363, 511),\n ('./visuelle/images/PE17/00299.png', 166, 428),\n ('./visuelle/images/PE17/00300.png', 167, 388),\n ('./visuelle/images/PE17/00301.png', 180, 343),\n ('./visuelle/images/PE17/00302.png', 326, 325),\n ('./visuelle/images/PE17/00303.png', 372, 358),\n ('./visuelle/images/PE17/00304.png', 535, 847),\n ('./visuelle/images/PE17/00305.png', 390, 660),\n ('./visuelle/images/PE17/00306.png', 430, 393),\n ('./visuelle/images/PE17/00307.png', 380, 395),\n ('./visuelle/images/PE17/00308.png', 214, 456),\n ('./visuelle/images/PE17/00309.png', 496, 546),\n ('./visuelle/images/PE17/00310.png', 509, 546),\n ('./visuelle/images/PE17/00311.png', 296, 603),\n ('./visuelle/images/PE17/00312.png', 360, 376),\n ('./visuelle/images/PE17/00313.png', 317, 368),\n ('./visuelle/images/PE17/00314.png', 460, 309),\n ('./visuelle/images/PE17/00315.png', 406, 379),\n ('./visuelle/images/PE17/00316.png', 372, 404),\n ('./visuelle/images/PE17/00317.png', 494, 452),\n ('./visuelle/images/PE17/00318.png', 437, 510),\n ('./visuelle/images/PE17/00319.png', 197, 314),\n ('./visuelle/images/PE17/00320.png', 251, 347),\n ('./visuelle/images/PE17/00321.png', 197, 411),\n ('./visuelle/images/PE17/00322.png', 427, 248),\n ('./visuelle/images/PE17/00323.png', 224, 505),\n ('./visuelle/images/PE17/00324.png', 207, 478),\n ('./visuelle/images/PE17/00325.png', 459, 633),\n ('./visuelle/images/PE17/00326.png', 226, 379),\n ('./visuelle/images/PE17/00327.png', 440, 631),\n ('./visuelle/images/PE17/00328.png', 177, 488),\n ('./visuelle/images/PE17/00329.png', 177, 468),\n ('./visuelle/images/PE17/00330.png', 353, 477),\n ('./visuelle/images/PE17/00331.png', 378, 378),\n ('./visuelle/images/PE17/00332.png', 512, 429),\n ('./visuelle/images/PE17/00333.png', 471, 632),\n ('./visuelle/images/PE17/00334.png', 219, 344),\n ('./visuelle/images/PE17/00335.png', 330, 404),\n ('./visuelle/images/PE17/00336.png', 364, 399),\n ('./visuelle/images/PE17/00337.png', 322, 330),\n ('./visuelle/images/PE17/00338.png', 161, 366),\n ('./visuelle/images/PE17/00339.png', 335, 424),\n ('./visuelle/images/PE17/00340.png', 237, 316),\n ('./visuelle/images/PE17/00341.png', 485, 521),\n ('./visuelle/images/PE17/00342.png', 233, 422),\n ('./visuelle/images/PE17/00343.png', 436, 448),\n ('./visuelle/images/PE17/00344.png', 176, 355),\n ('./visuelle/images/PE17/00345.png', 552, 454),\n ('./visuelle/images/PE17/00346.png', 173, 423),\n ('./visuelle/images/PE17/00347.png', 383, 592),\n ('./visuelle/images/PE17/00348.png', 443, 402),\n ('./visuelle/images/PE17/00349.png', 190, 355),\n ('./visuelle/images/PE17/00350.png', 347, 325),\n ('./visuelle/images/PE17/00351.png', 277, 333),\n ('./visuelle/images/PE17/00352.png', 335, 393),\n ('./visuelle/images/PE17/00353.png', 197, 397),\n ('./visuelle/images/PE17/00354.png', 114, 438),\n ('./visuelle/images/PE17/00355.png', 323, 428),\n ('./visuelle/images/PE17/00356.png', 435, 569),\n ('./visuelle/images/PE17/00357.png', 318, 358),\n ('./visuelle/images/PE17/00358.png', 263, 330),\n ('./visuelle/images/PE17/00359.png', 383, 307),\n ('./visuelle/images/PE17/00360.png', 422, 615),\n ('./visuelle/images/PE17/00361.png', 321, 290),\n ('./visuelle/images/PE17/00362.png', 391, 368),\n ('./visuelle/images/PE17/00363.png', 352, 318),\n ('./visuelle/images/PE17/00364.png', 504, 679),\n ('./visuelle/images/PE17/00365.png', 283, 353),\n ('./visuelle/images/PE17/00366.png', 381, 677),\n ('./visuelle/images/PE17/00367.png', 421, 421),\n ('./visuelle/images/PE17/00368.png', 408, 426),\n ('./visuelle/images/PE17/00369.png', 206, 444),\n ('./visuelle/images/PE17/00370.png', 200, 427),\n ('./visuelle/images/PE17/00371.png', 328, 667),\n ('./visuelle/images/PE17/00372.png', 169, 326),\n ('./visuelle/images/PE17/00373.png', 566, 438),\n ('./visuelle/images/PE17/00374.png', 435, 585),\n ('./visuelle/images/PE17/00375.png', 232, 338),\n ('./visuelle/images/PE17/00376.png', 144, 374),\n ('./visuelle/images/PE17/00377.png', 165, 318),\n ('./visuelle/images/PE17/00378.png', 286, 368),\n ('./visuelle/images/PE17/00379.png', 473, 554),\n ('./visuelle/images/PE17/00380.png', 344, 394),\n ('./visuelle/images/PE17/00381.png', 334, 452),\n ('./visuelle/images/PE17/00382.png', 399, 663),\n ('./visuelle/images/PE17/00383.png', 452, 379),\n ('./visuelle/images/PE17/00384.png', 335, 398),\n ('./visuelle/images/PE17/00385.png', 233, 358),\n ('./visuelle/images/PE17/00386.png', 367, 379),\n ('./visuelle/images/PE17/00387.png', 250, 315),\n ('./visuelle/images/PE17/00388.png', 408, 294),\n ('./visuelle/images/PE17/00389.png', 337, 333),\n ('./visuelle/images/PE17/00390.png', 238, 355),\n ('./visuelle/images/PE17/00391.png', 160, 367),\n ('./visuelle/images/PE17/00392.png', 341, 339),\n ('./visuelle/images/PE17/00393.png', 315, 280),\n ('./visuelle/images/PE17/00394.png', 433, 619),\n ('./visuelle/images/PE17/00395.png', 223, 326),\n ('./visuelle/images/PE17/00396.png', 458, 316),\n ('./visuelle/images/PE17/00397.png', 308, 297),\n ('./visuelle/images/PE17/00398.png', 385, 574),\n ('./visuelle/images/PE17/00399.png', 165, 364),\n ('./visuelle/images/PE17/00400.png', 308, 324),\n ('./visuelle/images/PE17/00401.png', 181, 381),\n ('./visuelle/images/PE17/00402.png', 417, 295),\n ('./visuelle/images/PE17/00403.png', 272, 390),\n ('./visuelle/images/PE17/00404.png', 287, 332),\n ('./visuelle/images/PE17/00405.png', 279, 360),\n ('./visuelle/images/PE17/00406.png', 316, 268),\n ('./visuelle/images/PE17/00407.png', 392, 281),\n ('./visuelle/images/PE17/00408.png', 312, 316),\n ('./visuelle/images/PE17/00409.png', 272, 424),\n ('./visuelle/images/PE17/00410.png', 474, 695),\n ('./visuelle/images/PE17/00411.png', 336, 336),\n ('./visuelle/images/PE17/00412.png', 350, 354),\n ('./visuelle/images/PE17/00413.png', 229, 367),\n ('./visuelle/images/PE17/00414.png', 164, 355),\n ('./visuelle/images/PE17/00415.png', 343, 326),\n ('./visuelle/images/PE17/00416.png', 341, 582),\n ('./visuelle/images/PE17/00417.png', 345, 719),\n ('./visuelle/images/PE17/00418.png', 176, 355),\n ('./visuelle/images/PE17/00419.png', 353, 394),\n ('./visuelle/images/PE17/00420.png', 328, 346),\n ('./visuelle/images/PE17/00421.png', 209, 457),\n ('./visuelle/images/PE17/00422.png', 544, 579),\n ('./visuelle/images/PE17/00423.png', 211, 332),\n ('./visuelle/images/PE17/00424.png', 387, 480),\n ('./visuelle/images/PE17/00425.png', 515, 536),\n ('./visuelle/images/PE17/00426.png', 427, 602),\n ('./visuelle/images/PE17/00427.png', 525, 824),\n ('./visuelle/images/PE17/00428.png', 294, 303),\n ('./visuelle/images/PE17/00429.png', 263, 226),\n ('./visuelle/images/PE17/00430.png', 495, 581),\n ('./visuelle/images/PE17/00431.png', 305, 317),\n ('./visuelle/images/PE17/00432.png', 360, 296),\n ('./visuelle/images/PE17/00433.png', 241, 346),\n ('./visuelle/images/PE17/00434.png', 346, 299),\n ('./visuelle/images/PE17/00435.png', 582, 566),\n ('./visuelle/images/PE17/00436.png', 342, 386),\n ('./visuelle/images/PE17/00437.png', 177, 367),\n ('./visuelle/images/PE17/00438.png', 577, 435),\n ('./visuelle/images/PE17/00439.png', 360, 593),\n ('./visuelle/images/PE17/00440.png', 488, 505),\n ('./visuelle/images/PE17/00441.png', 377, 718),\n ('./visuelle/images/PE17/00442.png', 409, 551),\n ('./visuelle/images/PE17/00443.png', 187, 395),\n ('./visuelle/images/PE17/00444.png', 301, 332),\n ('./visuelle/images/PE17/00445.png', 551, 490),\n ('./visuelle/images/PE17/00446.png', 492, 428),\n ('./visuelle/images/PE17/00447.png', 167, 407),\n ('./visuelle/images/PE17/00448.png', 582, 461),\n ('./visuelle/images/PE17/00449.png', 359, 314),\n ('./visuelle/images/PE17/00450.png', 304, 401),\n ('./visuelle/images/PE17/00451.png', 560, 589),\n ('./visuelle/images/PE17/00452.png', 307, 330),\n ('./visuelle/images/PE17/00453.png', 354, 393),\n ('./visuelle/images/PE17/00454.png', 269, 384),\n ('./visuelle/images/PE17/00455.png', 137, 410),\n ('./visuelle/images/PE17/00456.png', 571, 542),\n ('./visuelle/images/PE17/00457.png', 386, 716),\n ('./visuelle/images/PE17/00458.png', 245, 311),\n ('./visuelle/images/PE17/00459.png', 548, 425),\n ('./visuelle/images/PE17/00460.png', 245, 358),\n ('./visuelle/images/PE17/00461.png', 424, 660),\n ('./visuelle/images/PE17/00462.png', 556, 593),\n ('./visuelle/images/PE17/00463.png', 442, 671),\n ('./visuelle/images/PE17/00464.png', 550, 675),\n ('./visuelle/images/PE17/00465.png', 531, 438),\n ('./visuelle/images/PE17/00466.png', 484, 465),\n ('./visuelle/images/PE17/00467.png', 251, 361),\n ('./visuelle/images/PE17/00468.png', 229, 395),\n ('./visuelle/images/PE17/00469.png', 384, 309),\n ('./visuelle/images/PE17/00470.png', 296, 332),\n ('./visuelle/images/PE17/00471.png', 412, 350),\n ('./visuelle/images/PE17/00472.png', 167, 368),\n ('./visuelle/images/PE17/00473.png', 440, 455),\n ('./visuelle/images/PE17/00474.png', 189, 443),\n ('./visuelle/images/PE17/00475.png', 306, 387),\n ('./visuelle/images/PE17/00476.png', 220, 400),\n ('./visuelle/images/PE17/00477.png', 509, 722),\n ('./visuelle/images/PE17/00478.png', 409, 428),\n ('./visuelle/images/PE17/00479.png', 517, 526),\n ('./visuelle/images/PE17/00480.png', 466, 631),\n ('./visuelle/images/PE17/00481.png', 479, 648),\n ('./visuelle/images/PE17/00482.png', 577, 427),\n ('./visuelle/images/PE17/00483.png', 237, 373),\n ('./visuelle/images/PE17/00484.png', 210, 337),\n ('./visuelle/images/PE17/00485.png', 721, 354),\n ('./visuelle/images/PE17/00486.png', 329, 701),\n ('./visuelle/images/PE17/00487.png', 699, 372),\n ('./visuelle/images/PE17/00488.png', 180, 381),\n ('./visuelle/images/PE17/00489.png', 478, 604),\n ('./visuelle/images/PE17/00490.png', 272, 382),\n ('./visuelle/images/PE17/00491.png', 356, 452),\n ('./visuelle/images/PE17/00492.png', 516, 597),\n ('./visuelle/images/PE17/00493.png', 529, 617),\n ('./visuelle/images/PE17/00494.png', 306, 725),\n ('./visuelle/images/PE17/00495.png', 406, 275),\n ('./visuelle/images/PE17/00496.png', 560, 434),\n ('./visuelle/images/PE17/00497.png', 535, 489),\n ('./visuelle/images/PE17/00498.png', 469, 532),\n ('./visuelle/images/PE17/00499.png', 331, 493),\n ('./visuelle/images/PE17/00500.png', 317, 726),\n ('./visuelle/images/PE17/00501.png', 339, 291),\n ('./visuelle/images/PE17/00502.png', 453, 387),\n ('./visuelle/images/PE17/00503.png', 473, 712),\n ...]"
     },
     "execution_count": 73,
     "metadata": {},
     "output_type": "execute_result"
    }
   ],
   "source": [
    "tmp\n"
   ],
   "metadata": {
    "collapsed": false,
    "pycharm": {
     "name": "#%%\n"
    }
   }
  },
  {
   "cell_type": "code",
   "execution_count": 74,
   "outputs": [
    {
     "data": {
      "text/plain": "<Figure size 432x288 with 2 Axes>",
      "image/png": "[encoded data removed]"
     },
     "metadata": {
      "needs_background": "light"
     },
     "output_type": "display_data"
    }
   ],
   "source": [
    "heights = [h for _,h,_ in tmp]\n",
    "widths = [w for _,_,w in tmp]\n",
    "\n",
    "n_bins = 50\n",
    "\n",
    "fig, axs = plt.subplots(1, 2, sharey=True, tight_layout=True)\n",
    "\n",
    "# We can set the number of bins with the *bins* keyword argument.\n",
    "(n_h, bins_h, patches_h) = axs[0].hist(heights, bins=n_bins)\n",
    "(n_w, bins_w, patches_w) = axs[1].hist(widths, bins=n_bins)\n",
    "plt.show()"
   ],
   "metadata": {
    "collapsed": false,
    "pycharm": {
     "name": "#%%\n"
    }
   }
  },
  {
   "cell_type": "code",
   "execution_count": 75,
   "outputs": [
    {
     "data": {
      "text/plain": "<Figure size 432x288 with 1 Axes>",
      "image/png": "[encoded data removed]"
     },
     "metadata": {
      "needs_background": "light"
     },
     "output_type": "display_data"
    }
   ],
   "source": [
    "aspect_ratio = [h/w for _,h,w in tmp]\n",
    "\n",
    "# create the histogram\n",
    "(n, bins, patches) = plt.hist(aspect_ratio, bins=n_bins)\n",
    "\n",
    "plt.show()"
   ],
   "metadata": {
    "collapsed": false,
    "pycharm": {
     "name": "#%%\n"
    }
   }
  },
  {
   "cell_type": "markdown",
   "source": [
    "## PCA"
   ],
   "metadata": {
    "collapsed": false
   }
  },
  {
   "cell_type": "markdown",
   "source": [
    "#first choice: import the already PCAd datasets\n",
    "\n",
    "df_drA_total = pd.read_csv(\"dr_images.csv\")\n",
    "drA_total = df_drA_total.to_numpy()\n",
    "\n",
    "drA_train, drA_test, y_train, y_test = train_test_split(drA_total, y, test_size=test_size, random_state=58)\n",
    "\n",
    "y_test_color = [c for _, c in y_test]\n",
    "y_train_color = [c for _, c in y_train]\n",
    "\n",
    "y_test = [category for category, _ in y_test]\n",
    "y_train = [category for category, _ in y_train]\n"
   ],
   "metadata": {
    "collapsed": false,
    "pycharm": {
     "name": "#%% md\n"
    }
   },
   "execution_count": 20
  },
  {
   "cell_type": "code",
   "execution_count": 76,
   "outputs": [],
   "source": [
    "#second choice: process the total dataset from scratch\n",
    "\n",
    "from sklearn.preprocessing import StandardScaler\n",
    "\n",
    "n_components = 500\n",
    "pca = PCA(n_components=n_components)\n",
    "\n",
    "scaler = StandardScaler()\n",
    "#A_train_tilde = scaler.fit_transform(A_train)\n",
    "#A_test_tilde = scaler.fit_transform(A_test)\n",
    "A_train_tilde = A_train - A_train.mean(axis=0).reshape(1,-1)\n",
    "A_test_tilde = A_test - A_test.mean(axis=0).reshape(1,-1)\n",
    "\n",
    "drA_train = pca.fit_transform(A_train_tilde)\n",
    "drA_test = pca.fit_transform(A_test_tilde)\n",
    "\n",
    "eigenvalues = pca.explained_variance_ratio_\n",
    "eigenvectors = pca.components_\n"
   ],
   "metadata": {
    "collapsed": false,
    "pycharm": {
     "name": "#%%\n"
    }
   }
  },
  {
   "cell_type": "code",
   "execution_count": 77,
   "outputs": [],
   "source": [
    "to_csv(drA_train, \"dr_Atrain_huge.csv\")\n",
    "to_csv(drA_test, \"dr_Atest_huge.csv\")"
   ],
   "metadata": {
    "collapsed": false,
    "pycharm": {
     "name": "#%%\n"
    }
   }
  },
  {
   "cell_type": "code",
   "execution_count": 78,
   "outputs": [
    {
     "name": "stdout",
     "output_type": "stream",
     "text": [
      "With 500 eigenvectors I model 97.75% of information\n"
     ]
    }
   ],
   "source": [
    "information = pca.explained_variance_ratio_.cumsum()[-1]\n",
    "print(\"With {} eigenvectors I model {:.2f}% of information\".format(n_components, information*100))"
   ],
   "metadata": {
    "collapsed": false,
    "pycharm": {
     "name": "#%%\n"
    }
   }
  },
  {
   "cell_type": "code",
   "execution_count": 79,
   "outputs": [
    {
     "data": {
      "text/plain": "<Figure size 1296x504 with 1 Axes>",
      "image/png": "[encoded data removed]"
     },
     "metadata": {
      "needs_background": "light"
     },
     "output_type": "display_data"
    }
   ],
   "source": [
    "plt.figure(figsize=(18, 7))\n",
    "plt.plot(pca.explained_variance_ratio_.cumsum(), lw=3)\n",
    "plt.show()"
   ],
   "metadata": {
    "collapsed": false,
    "pycharm": {
     "name": "#%%\n"
    }
   }
  },
  {
   "cell_type": "code",
   "execution_count": 80,
   "outputs": [
    {
     "name": "stdout",
     "output_type": "stream",
     "text": [
      "The number of features to have 80% of information is: 35\n"
     ]
    }
   ],
   "source": [
    "n_features = np.where(pca.explained_variance_ratio_.cumsum()>0.8)[0][0]\n",
    "print(\"The number of features to have 80% of information is: {}\".format(n_features))"
   ],
   "metadata": {
    "collapsed": false,
    "pycharm": {
     "name": "#%%\n"
    }
   }
  },
  {
   "cell_type": "markdown",
   "source": [
    "values, vectors = eigen_training(A_train)"
   ],
   "metadata": {
    "collapsed": false,
    "pycharm": {
     "name": "#%% md\n",
     "is_executing": true
    }
   }
  },
  {
   "cell_type": "markdown",
   "source": [
    "plt.figure(figsize=(18, 7))\n",
    "\n",
    "for i in range(6):\n",
    "    ax = plt.subplot(2, 3, i + 1)\n",
    "    ax.imshow(vectors[:,i].reshape([-1, target_w,4]))\n",
    "plt.show()"
   ],
   "metadata": {
    "collapsed": false,
    "pycharm": {
     "name": "#%% md\n",
     "is_executing": true
    }
   }
  },
  {
   "cell_type": "code",
   "execution_count": 81,
   "outputs": [],
   "source": [
    "drA_train = drA_train[:,:150]\n",
    "drA_test = drA_test[:,:150]"
   ],
   "metadata": {
    "collapsed": false,
    "pycharm": {
     "name": "#%%\n"
    }
   }
  },
  {
   "cell_type": "markdown",
   "source": [
    "## Bayes naive classifier"
   ],
   "metadata": {
    "collapsed": false
   }
  },
  {
   "cell_type": "markdown",
   "source": [
    "Firstly, let's try a single mode naive Bayes classifier"
   ],
   "metadata": {
    "collapsed": false
   }
  },
  {
   "cell_type": "code",
   "execution_count": 82,
   "outputs": [],
   "source": [
    "from sklearn.naive_bayes import GaussianNB\n",
    "from sklearn.metrics import classification_report\n",
    "\n",
    "gnb = GaussianNB()\n",
    "y_pred = gnb.fit(drA_train, y_train).predict(drA_test)"
   ],
   "metadata": {
    "collapsed": false,
    "pycharm": {
     "name": "#%%\n"
    }
   }
  },
  {
   "cell_type": "code",
   "execution_count": 83,
   "outputs": [
    {
     "name": "stdout",
     "output_type": "stream",
     "text": [
      "                 precision    recall  f1-score   support\n",
      "\n",
      "         capris       0.00      0.00      0.00         4\n",
      "       culottes       0.64      0.66      0.65       196\n",
      "     doll dress       0.20      0.18      0.19        65\n",
      "    drop sleeve       0.00      0.00      0.00        31\n",
      "   gitana skirt       0.00      0.00      0.00         7\n",
      "   kimono dress       0.06      0.24      0.10        34\n",
      "  long cardigan       0.00      0.00      0.00         2\n",
      "      long coat       0.04      0.04      0.04        25\n",
      "     long dress       0.18      0.06      0.10        31\n",
      "    long duster       0.00      0.00      0.00         4\n",
      "    long sleeve       0.38      0.35      0.36       249\n",
      "           maxi       0.00      0.00      0.00         8\n",
      "medium cardigan       0.00      0.00      0.00        15\n",
      "    medium coat       0.00      0.00      0.00        16\n",
      "      miniskirt       0.00      0.00      0.00         9\n",
      "      patterned       0.04      0.03      0.03        40\n",
      "        printed       0.00      0.00      0.00        28\n",
      "   sheath dress       0.00      0.00      0.00        14\n",
      "    shirt dress       0.00      0.00      0.00         4\n",
      " short cardigan       0.00      0.00      0.00         6\n",
      "     short coat       0.22      0.15      0.18        27\n",
      "  short sleeves       0.18      0.10      0.13        62\n",
      "         shorts       0.00      0.00      0.00        10\n",
      "     sleeveless       0.24      0.26      0.25        96\n",
      "  solid colours       0.06      0.10      0.07       102\n",
      "      tracksuit       0.00      0.00      0.00        14\n",
      "  trapeze dress       0.05      0.06      0.06        16\n",
      "\n",
      "       accuracy                           0.26      1115\n",
      "      macro avg       0.08      0.08      0.08      1115\n",
      "   weighted avg       0.26      0.26      0.25      1115\n",
      "\n"
     ]
    },
    {
     "name": "stderr",
     "output_type": "stream",
     "text": [
      "/Users/francescobazzani/miniconda3/envs/fml_project/lib/python3.10/site-packages/sklearn/metrics/_classification.py:1327: UndefinedMetricWarning: Precision and F-score are ill-defined and being set to 0.0 in labels with no predicted samples. Use `zero_division` parameter to control this behavior.\n",
      "  _warn_prf(average, modifier, msg_start, len(result))\n",
      "/Users/francescobazzani/miniconda3/envs/fml_project/lib/python3.10/site-packages/sklearn/metrics/_classification.py:1327: UndefinedMetricWarning: Precision and F-score are ill-defined and being set to 0.0 in labels with no predicted samples. Use `zero_division` parameter to control this behavior.\n",
      "  _warn_prf(average, modifier, msg_start, len(result))\n",
      "/Users/francescobazzani/miniconda3/envs/fml_project/lib/python3.10/site-packages/sklearn/metrics/_classification.py:1327: UndefinedMetricWarning: Precision and F-score are ill-defined and being set to 0.0 in labels with no predicted samples. Use `zero_division` parameter to control this behavior.\n",
      "  _warn_prf(average, modifier, msg_start, len(result))\n"
     ]
    }
   ],
   "source": [
    "print(classification_report(y_test, y_pred))"
   ],
   "metadata": {
    "collapsed": false,
    "pycharm": {
     "name": "#%%\n"
    }
   }
  },
  {
   "cell_type": "markdown",
   "source": [
    "Let's use a custom classifier that use a multimodal gaussian mixture. The classifier autotunes (single or bi-modal) based on the results obtained from the optimizer"
   ],
   "metadata": {
    "collapsed": false
   }
  },
  {
   "cell_type": "code",
   "execution_count": 84,
   "outputs": [],
   "source": [
    "classifier = BayesianClassifier(data=drA_train[:,:10], labels=y_train) #try the classificator with only the first ten components"
   ],
   "metadata": {
    "collapsed": false,
    "pycharm": {
     "name": "#%%\n"
    }
   }
  },
  {
   "cell_type": "code",
   "execution_count": 85,
   "outputs": [
    {
     "data": {
      "text/plain": "<Figure size 1296x720 with 9 Axes>",
      "image/png": "[encoded data removed]"
     },
     "metadata": {
      "needs_background": "light"
     },
     "output_type": "display_data"
    }
   ],
   "source": [
    "plt.figure(figsize=(18, 10))\n",
    "\n",
    "for i in range(9):\n",
    "    ax = plt.subplot(3, 3, i + 1)\n",
    "    classifier.mixture_model[i].plot_pdf_modeled(n_bins=50)\n",
    "plt.show()"
   ],
   "metadata": {
    "collapsed": false,
    "pycharm": {
     "name": "#%%\n"
    }
   }
  },
  {
   "cell_type": "code",
   "execution_count": 86,
   "outputs": [
    {
     "name": "stderr",
     "output_type": "stream",
     "text": [
      "100%|██████████| 1115/1115 [00:20<00:00, 55.63it/s]"
     ]
    },
    {
     "name": "stdout",
     "output_type": "stream",
     "text": [
      "The score of the classifier is: 0.22331838565022422\n"
     ]
    },
    {
     "name": "stderr",
     "output_type": "stream",
     "text": [
      "\n"
     ]
    }
   ],
   "source": [
    "predictions, prob_dataframe = classifier.predict(data=drA_test[:,:10],y_true=y_test)"
   ],
   "metadata": {
    "collapsed": false,
    "pycharm": {
     "name": "#%%\n"
    }
   }
  },
  {
   "cell_type": "code",
   "execution_count": 87,
   "outputs": [
    {
     "name": "stderr",
     "output_type": "stream",
     "text": [
      "100%|██████████| 1115/1115 [00:07<00:00, 153.31it/s]"
     ]
    },
    {
     "name": "stdout",
     "output_type": "stream",
     "text": [
      "The score of the classifier is: 0.2116591928251121\n"
     ]
    },
    {
     "name": "stderr",
     "output_type": "stream",
     "text": [
      "\n"
     ]
    }
   ],
   "source": [
    "classifier_color = BayesianClassifier(data=drA_train[:,:10], labels=y_train_color) #try the classificator with only the first ten components\n",
    "predictions_color, prob_color_dataframe = classifier_color.predict(data=drA_test[:,:10],y_true=y_test_color)"
   ],
   "metadata": {
    "collapsed": false,
    "pycharm": {
     "name": "#%%\n"
    }
   }
  },
  {
   "cell_type": "markdown",
   "source": [
    "## SVC"
   ],
   "metadata": {
    "collapsed": false
   }
  },
  {
   "cell_type": "code",
   "execution_count": 88,
   "outputs": [],
   "source": [
    "from sklearn.svm import SVC\n",
    "from sklearn.pipeline import make_pipeline\n",
    "\n",
    "svc = SVC(kernel='rbf', class_weight='balanced')"
   ],
   "metadata": {
    "collapsed": false,
    "pycharm": {
     "name": "#%%\n"
    }
   }
  },
  {
   "cell_type": "code",
   "execution_count": 89,
   "outputs": [],
   "source": [
    "from sklearn.model_selection import GridSearchCV\n",
    "\n",
    "def fit_SVC_model(model, c_params, gamma_params, X_train, y_train):\n",
    "    param_grid = dict(gamma=gamma_params, C=c_params)\n",
    "    grid = GridSearchCV(model, param_grid)\n",
    "    %time grid.fit(X_train, y_train)\n",
    "\n",
    "    print(\n",
    "        \"The best parameters are %s with a score of %0.2f\"\n",
    "        % (grid.best_params_, grid.best_score_)\n",
    "    )\n",
    "\n",
    "    return grid"
   ],
   "metadata": {
    "collapsed": false,
    "pycharm": {
     "name": "#%%\n"
    }
   }
  },
  {
   "cell_type": "code",
   "execution_count": 90,
   "outputs": [],
   "source": [
    "c_params = [20 ,50, 100]\n",
    "#gamma_params = [0.0001, 0.0005, 0.001, 0.005]\n",
    "gamma_params = [0.0001, 0.0005, 0.001, 0.01, 0.1, 1]\n",
    "#high gamma means more curvature and, low gamma then less curvature"
   ],
   "metadata": {
    "collapsed": false,
    "pycharm": {
     "name": "#%%\n"
    }
   }
  },
  {
   "cell_type": "code",
   "execution_count": 91,
   "outputs": [
    {
     "data": {
      "text/plain": "4460"
     },
     "execution_count": 91,
     "metadata": {},
     "output_type": "execute_result"
    }
   ],
   "source": [
    "len(y_train)"
   ],
   "metadata": {
    "collapsed": false,
    "pycharm": {
     "name": "#%%\n"
    }
   }
  },
  {
   "cell_type": "code",
   "execution_count": 92,
   "outputs": [
    {
     "name": "stdout",
     "output_type": "stream",
     "text": [
      "CPU times: user 2min 25s, sys: 362 ms, total: 2min 25s\n",
      "Wall time: 2min 26s\n",
      "The best parameters are {'C': 50, 'gamma': 0.0005} with a score of 0.64\n"
     ]
    }
   ],
   "source": [
    "grid = fit_SVC_model(svc, c_params, gamma_params, drA_train[:,:70], y_train)"
   ],
   "metadata": {
    "collapsed": false,
    "pycharm": {
     "name": "#%%\n"
    }
   }
  },
  {
   "cell_type": "code",
   "execution_count": 93,
   "outputs": [],
   "source": [
    "model = grid.best_estimator_\n",
    "yfit = model.predict(drA_test[:,:70])\n"
   ],
   "metadata": {
    "collapsed": false,
    "pycharm": {
     "name": "#%%\n"
    }
   }
  },
  {
   "cell_type": "code",
   "execution_count": 94,
   "outputs": [
    {
     "data": {
      "text/plain": "27"
     },
     "execution_count": 94,
     "metadata": {},
     "output_type": "execute_result"
    }
   ],
   "source": [
    "len(set(y_test))"
   ],
   "metadata": {
    "collapsed": false,
    "pycharm": {
     "name": "#%%\n"
    }
   }
  },
  {
   "cell_type": "code",
   "execution_count": 95,
   "outputs": [
    {
     "name": "stdout",
     "output_type": "stream",
     "text": [
      "                 precision    recall  f1-score   support\n",
      "\n",
      "         capris       0.00      0.00      0.00         4\n",
      "       culottes       0.81      0.85      0.83       196\n",
      "     doll dress       0.23      0.26      0.24        65\n",
      "    drop sleeve       0.00      0.00      0.00        31\n",
      "   gitana skirt       0.00      0.00      0.00         7\n",
      "   kimono dress       0.00      0.00      0.00        34\n",
      "  long cardigan       0.00      0.00      0.00         2\n",
      "      long coat       0.00      0.00      0.00        25\n",
      "     long dress       0.33      0.35      0.34        31\n",
      "    long duster       0.00      0.00      0.00         4\n",
      "    long sleeve       0.47      0.83      0.60       249\n",
      "           maxi       0.00      0.00      0.00         8\n",
      "medium cardigan       0.00      0.00      0.00        15\n",
      "    medium coat       0.00      0.00      0.00        16\n",
      "      miniskirt       0.00      0.00      0.00         9\n",
      "      patterned       0.04      0.03      0.03        40\n",
      "        printed       0.20      0.04      0.06        28\n",
      "   sheath dress       0.09      0.21      0.12        14\n",
      "    shirt dress       0.00      0.00      0.00         4\n",
      " short cardigan       0.00      0.00      0.00         6\n",
      "     short coat       0.00      0.00      0.00        27\n",
      "  short sleeves       0.38      0.39      0.38        62\n",
      "         shorts       0.00      0.00      0.00        10\n",
      "     sleeveless       0.34      0.30      0.32        96\n",
      "  solid colours       0.18      0.17      0.17       102\n",
      "      tracksuit       0.33      0.07      0.12        14\n",
      "  trapeze dress       0.00      0.00      0.00        16\n",
      "\n",
      "       accuracy                           0.43      1115\n",
      "      macro avg       0.13      0.13      0.12      1115\n",
      "   weighted avg       0.35      0.43      0.37      1115\n",
      "\n"
     ]
    },
    {
     "name": "stderr",
     "output_type": "stream",
     "text": [
      "/Users/francescobazzani/miniconda3/envs/fml_project/lib/python3.10/site-packages/sklearn/metrics/_classification.py:1327: UndefinedMetricWarning: Precision and F-score are ill-defined and being set to 0.0 in labels with no predicted samples. Use `zero_division` parameter to control this behavior.\n",
      "  _warn_prf(average, modifier, msg_start, len(result))\n",
      "/Users/francescobazzani/miniconda3/envs/fml_project/lib/python3.10/site-packages/sklearn/metrics/_classification.py:1327: UndefinedMetricWarning: Precision and F-score are ill-defined and being set to 0.0 in labels with no predicted samples. Use `zero_division` parameter to control this behavior.\n",
      "  _warn_prf(average, modifier, msg_start, len(result))\n",
      "/Users/francescobazzani/miniconda3/envs/fml_project/lib/python3.10/site-packages/sklearn/metrics/_classification.py:1327: UndefinedMetricWarning: Precision and F-score are ill-defined and being set to 0.0 in labels with no predicted samples. Use `zero_division` parameter to control this behavior.\n",
      "  _warn_prf(average, modifier, msg_start, len(result))\n"
     ]
    }
   ],
   "source": [
    "from sklearn.metrics import classification_report\n",
    "print(classification_report(y_test, yfit))"
   ],
   "metadata": {
    "collapsed": false,
    "pycharm": {
     "name": "#%%\n"
    }
   }
  },
  {
   "cell_type": "code",
   "execution_count": 96,
   "outputs": [],
   "source": [
    "from sklearn.metrics import confusion_matrix\n",
    "\n",
    "labels = list(set(y_test))\n",
    "cm = confusion_matrix(y_test, yfit, labels=labels)"
   ],
   "metadata": {
    "collapsed": false,
    "pycharm": {
     "name": "#%%\n"
    }
   }
  },
  {
   "cell_type": "code",
   "execution_count": 120,
   "outputs": [
    {
     "data": {
      "text/plain": "<Figure size 720x720 with 2 Axes>",
      "image/png": "[encoded data removed]"
     },
     "metadata": {
      "needs_background": "light"
     },
     "output_type": "display_data"
    }
   ],
   "source": [
    "import matplotlib.pyplot as plt\n",
    "from sklearn.metrics import ConfusionMatrixDisplay\n",
    "\n",
    "cm = confusion_matrix(y_test, yfit, labels=labels)\n",
    "cmp = ConfusionMatrixDisplay(cm, display_labels=range(27))\n",
    "fig, ax = plt.subplots(figsize=(10,10))\n",
    "ax.tick_params(axis='x', labelrotation = 45)\n",
    "cmp.plot(ax=ax)\n",
    "plt.ylabel(\"Actual label\", rotation=90)\n",
    "\n",
    "plt.show()\n"
   ],
   "metadata": {
    "collapsed": false,
    "pycharm": {
     "name": "#%%\n"
    }
   }
  },
  {
   "cell_type": "markdown",
   "source": [
    "### Bag of image words"
   ],
   "metadata": {
    "collapsed": false
   }
  },
  {
   "cell_type": "markdown",
   "source": [
    "The kmeans method clusters descriptors_float, which is a matrix that represents the entire dataset of images, into k centroids that represent the image. The kmeans method returns a tuple: voc, which is the array that contains the 27 “centroids” of the clustered 128 dimensional space, and variance (not used in this analysis)"
   ],
   "metadata": {
    "collapsed": false
   }
  },
  {
   "cell_type": "code",
   "execution_count": 98,
   "outputs": [],
   "source": [
    "from scipy.cluster.vq import kmeans,vq\n",
    "from sklearn.model_selection import GridSearchCV\n",
    "from sklearn.metrics import classification_report\n",
    "from sklearn.preprocessing import StandardScaler\n",
    "\n",
    "class BagOfWords():\n",
    "\n",
    "    def __init__(self, A_, y_train, target_w=150, channels=4, k = 1000, c_params = [1, 10, 100], gamma_params = [0.01, 0.1, 1, 10]):\n",
    "        self.A_ = A_\n",
    "        self.y_train = y_train\n",
    "        self.target_w = target_w\n",
    "        self.channels = channels\n",
    "        self.n_images_paths, self.n_features = self.A_.shape\n",
    "        self.k = k\n",
    "        self.sift = cv2.SIFT_create()\n",
    "        self.des_list, self.kp_list, self.descriptors_float = self.get_descriptors(A_=self.A_)\n",
    "        print(\"creating centroids\")\n",
    "        self.voc, self.variance = kmeans(self.descriptors_float, self.k, 20)\n",
    "        self.features = self.vector_quantization(self.des_list, self.n_images_paths, self.k, self.voc)\n",
    "        self.scaler = StandardScaler()\n",
    "        self.features = self.scaler.fit_transform(self.features)\n",
    "        self.c_params = c_params\n",
    "        self.gamma_params = gamma_params\n",
    "        self.model = self.train_model()\n",
    "\n",
    "\n",
    "    def get_descriptors(self, A_):\n",
    "        des_list = []\n",
    "        kp_list = []\n",
    "        images, features = A_.shape\n",
    "        for i in tqdm(range(images)):\n",
    "            im = A_[i,:]\n",
    "            im = im.reshape([-1, self.target_w, self.channels])\n",
    "            im = cv2.normalize(im, None, 0, 255, cv2.NORM_MINMAX).astype('uint8')\n",
    "            kp = self.sift.detect(im,None)\n",
    "            keypoints,descriptor= self.sift.compute(im, kp)\n",
    "            des_list.append(descriptor)\n",
    "            kp_list.append(keypoints)\n",
    "\n",
    "        first_ = True\n",
    "        for descriptor in des_list:\n",
    "            if descriptor is not None:\n",
    "                if first_:\n",
    "                    descriptors = descriptor\n",
    "                    first_ = False\n",
    "                else:\n",
    "                    descriptors = np.concatenate((descriptors, descriptor))\n",
    "            else:\n",
    "                continue\n",
    "        descriptors_float = descriptors.astype(float)\n",
    "        return des_list, kp_list, descriptors_float\n",
    "\n",
    "    def draw_keypoints(self, index=0, color=(255, 255, 255)):\n",
    "        keypoints = self.kp_list[index]\n",
    "        im = self.A_[index,:]\n",
    "        for kp in tqdm(keypoints):\n",
    "            x, y = kp.pt\n",
    "            plt.imshow(cv2.circle(im, (int(x), int(y)), 2, color))\n",
    "\n",
    "    def vector_quantization(self, des_list, n_images_paths, k, voc):\n",
    "        features = np.zeros((n_images_paths, k), \"float32\")\n",
    "        for i in tqdm(range(n_images_paths)):\n",
    "            try:\n",
    "                # Use the codebook to assign each observation to a cluster via vector quantization\n",
    "                # labels, distance = vq(dataset, codebook)\n",
    "                image_words, distance = vq(des_list[i], voc)\n",
    "                for w in image_words:\n",
    "                    features[i][w] += 1\n",
    "            except:\n",
    "                # if the image has no image_words, continue (the row will be all zeros)\n",
    "                continue\n",
    "        return features\n",
    "\n",
    "    def train_model(self):\n",
    "\n",
    "        print(\"sto allenando il modello\")\n",
    "        from sklearn.svm import SVC\n",
    "        features = self.features - np.mean(self.features, axis=0)\n",
    "        clf = SVC(kernel='rbf', class_weight='balanced')\n",
    "        param_grid = dict(gamma=self.gamma_params, C=self.c_params)\n",
    "        grid = GridSearchCV(clf, param_grid)\n",
    "        grid.fit(features, self.y_train)\n",
    "        return grid.best_estimator_\n",
    "\n",
    "    def draw_keypoints(self, index = 0, color = (255, 255, 255)):\n",
    "        im = self.A_[index,:].reshape([-1, self.target_w, self.channels])\n",
    "        keypoints = self.kp_list[index]\n",
    "        im = cv2.normalize(im, None, 0, 255, cv2.NORM_MINMAX).astype('uint8')\n",
    "        for kp in tqdm(keypoints):\n",
    "            x, y = kp.pt\n",
    "            plt.imshow(cv2.circle(im, (int(x), int(y)), 2, color))\n",
    "\n",
    "    def predict(self, A_test, y_test):\n",
    "        des_list, _, _ = self.get_descriptors(A_=A_test)\n",
    "        n_images_path, _ = A_test.shape\n",
    "        im_test_features = self.vector_quantization(des_list=des_list, n_images_paths=n_images_path, k=self.k, voc=self.voc)\n",
    "        yfit = self.model.predict(im_test_features)\n",
    "        print(classification_report(y_test, yfit))\n",
    "        return yfit\n",
    "\n",
    "    def transform_features(self, A_test):\n",
    "        des_list, _, _ = self.get_descriptors(A_=A_test)\n",
    "        n_images_path, _ = A_test.shape\n",
    "        im_test_features = self.vector_quantization(des_list=des_list, n_images_paths=n_images_path, k=self.k, voc=self.voc)\n",
    "        return im_test_features"
   ],
   "metadata": {
    "collapsed": false,
    "pycharm": {
     "name": "#%%\n"
    }
   }
  },
  {
   "cell_type": "code",
   "execution_count": 99,
   "outputs": [
    {
     "name": "stderr",
     "output_type": "stream",
     "text": [
      "100%|██████████| 4460/4460 [00:21<00:00, 204.21it/s]\n"
     ]
    },
    {
     "name": "stdout",
     "output_type": "stream",
     "text": [
      "creating centroids\n"
     ]
    },
    {
     "name": "stderr",
     "output_type": "stream",
     "text": [
      "100%|██████████| 4460/4460 [00:04<00:00, 1109.29it/s]\n"
     ]
    },
    {
     "name": "stdout",
     "output_type": "stream",
     "text": [
      "sto allenando il modello\n"
     ]
    }
   ],
   "source": [
    "bg_classifier = BagOfWords(A_=A_train, k=200, y_train=y_train, target_w=target_w)"
   ],
   "metadata": {
    "collapsed": false,
    "pycharm": {
     "name": "#%%\n"
    }
   }
  },
  {
   "cell_type": "markdown",
   "source": [
    "Patch visualized on image number 20"
   ],
   "metadata": {
    "collapsed": false
   }
  },
  {
   "cell_type": "code",
   "execution_count": 100,
   "outputs": [
    {
     "data": {
      "text/plain": "(227902, 128)"
     },
     "execution_count": 100,
     "metadata": {},
     "output_type": "execute_result"
    }
   ],
   "source": [
    "bg_classifier.descriptors_float.shape"
   ],
   "metadata": {
    "collapsed": false,
    "pycharm": {
     "name": "#%%\n"
    }
   }
  },
  {
   "cell_type": "markdown",
   "source": [
    "Here are reported the features emerged in the dataset (for the first image); the data is normalized using the Scandardscaler object of the library sklearn. For each feature it subtract the mean, over that feature, and divides it for the standard deviation (in order to have std=1)."
   ],
   "metadata": {
    "collapsed": false
   }
  },
  {
   "cell_type": "code",
   "execution_count": 122,
   "outputs": [
    {
     "data": {
      "text/plain": "array([-0.35163754, -0.06511164, -0.3664244 ,  1.8334923 , -0.28628752,\n       -0.10078438, -0.35394916, -0.42093745, -0.45336044, -0.29564065,\n       -0.28101602, -0.39205813, -0.38017705, -0.34397393, -0.27886716,\n       -0.44155058, -0.04933821, -0.28476393, -0.45338193, -0.35651714,\n       -0.45612255, -0.29437432, -0.32708827, -0.27550668, -0.3337385 ,\n       -0.3609391 , -0.33732364, -0.30495667, -0.2941332 , -0.30128354,\n        0.78896403, -0.32484806, -0.35004774, -0.3468025 , -0.31376278,\n       -0.36059698, -0.06417716, -0.1325806 , -0.34439185, -0.3950503 ,\n       -0.2777451 , -0.31393164, -0.378218  , -0.39525822, -0.25082484,\n       -0.3400699 , -0.05137232, -0.36814663, -0.4566421 , -0.25424433,\n       -0.39722773, -0.37271604, -0.3251617 , -0.09959019, -0.35213232,\n       -0.27667704, -0.22583467, -0.31190753, -0.2695649 , -0.2624822 ,\n       -0.5335566 , -0.32490593, -0.32914266, -0.3796371 ,  0.8378034 ,\n       -0.3656762 , -0.37644288, -0.29101816, -0.2812117 , -0.48526224,\n       -0.30237386, -0.42136723, -0.15005523, -0.35593805, -0.22334233,\n       -0.3460994 , -0.31189793, -0.30868766, -0.20893012, -0.31022692,\n       -0.34653896, -0.32540807, -0.38089007, -0.3237308 , -0.28256652,\n       -0.30037138, -0.37269056, -0.3928056 , -0.32592577,  1.5227305 ,\n       -0.09673447, -0.36166304, -0.28787488, -0.2933535 , -0.3156765 ,\n       -0.32503104, -0.30263227, -0.41532594, -0.44406754, -0.37267047,\n       -0.40535855, -0.24599177, -0.3838702 , -0.31154427,  0.35163304,\n       -0.08680292,  3.293941  , -0.27730897, -0.1637665 , -0.3538645 ,\n       -0.31344715, -0.1112883 , -0.23378699, -0.35597166, -0.2692235 ,\n       -0.40378463, -0.41676348, -0.27732825, -0.41993323, -0.37988165,\n       -0.28839985, -0.27776322, -0.3982181 , -0.328122  , -0.35467163,\n       -0.50362754, -0.37106547, -0.31381553, -0.40668362, -0.18454017,\n        0.70088696, -0.19399904, -0.28120294, -0.35027593, -0.30357918,\n       -0.59982306, -0.3824552 , -0.29025438, -0.33217627, -0.3500818 ,\n       -0.26872852, -0.14240937, -0.15068488, -0.08693684,  0.75147927,\n       -0.37598416,  1.3194529 , -0.26988652, -0.3398367 , -0.3266653 ,\n       -0.3389773 , -0.02285804, -0.34547457, -0.33230358, -0.41620585,\n       -0.32426083, -0.544437  , -0.30609187, -0.3563812 , -0.32968676,\n       -0.29273176, -0.37543043, -0.33668363, -0.35107118, -0.29590213,\n       -0.3246885 , -0.31324348, -0.35617307, -0.08263363,  0.94539255,\n       -0.301726  , -0.3205884 , -0.03336749, -0.3238736 , -0.27924812,\n       -0.36425346, -0.30950087, -0.35813683, -0.45470324, -0.31076023,\n       -0.3291716 , -0.30465177, -0.26802713, -0.38058567, -0.21519005,\n       -0.24647981, -0.2944925 , -0.31695127, -0.32442233, -0.31566373,\n       -0.2284602 , -0.27123478, -0.38095975, -0.30920827, -0.37202224,\n       -0.31527185, -0.3201475 , -0.4655905 , -0.4549364 , -0.34328195],\n      dtype=float32)"
     },
     "execution_count": 122,
     "metadata": {},
     "output_type": "execute_result"
    }
   ],
   "source": [
    "bg_classifier.features[0]"
   ],
   "metadata": {
    "collapsed": false,
    "pycharm": {
     "name": "#%%\n"
    }
   }
  },
  {
   "cell_type": "code",
   "execution_count": 117,
   "outputs": [
    {
     "name": "stderr",
     "output_type": "stream",
     "text": [
      "100%|██████████| 131/131 [00:00<00:00, 721.55it/s]\n"
     ]
    },
    {
     "data": {
      "text/plain": "<Figure size 432x288 with 1 Axes>",
      "image/png": "[encoded data removed]"
     },
     "metadata": {
      "needs_background": "light"
     },
     "output_type": "display_data"
    }
   ],
   "source": [
    "bg_classifier.draw_keypoints(index=7)"
   ],
   "metadata": {
    "collapsed": false,
    "pycharm": {
     "name": "#%%\n"
    }
   }
  },
  {
   "cell_type": "code",
   "execution_count": 102,
   "outputs": [
    {
     "name": "stderr",
     "output_type": "stream",
     "text": [
      "100%|██████████| 1115/1115 [00:08<00:00, 134.40it/s]\n",
      "100%|██████████| 1115/1115 [00:00<00:00, 1589.36it/s]\n"
     ]
    },
    {
     "name": "stdout",
     "output_type": "stream",
     "text": [
      "                 precision    recall  f1-score   support\n",
      "\n",
      "         capris       0.00      0.00      0.00         4\n",
      "       culottes       0.96      0.13      0.23       196\n",
      "     doll dress       0.37      0.32      0.34        65\n",
      "    drop sleeve       0.00      0.00      0.00        31\n",
      "   gitana skirt       0.00      0.00      0.00         7\n",
      "   kimono dress       0.20      0.06      0.09        34\n",
      "  long cardigan       0.00      0.00      0.00         2\n",
      "      long coat       0.00      0.00      0.00        25\n",
      "     long dress       0.18      0.26      0.21        31\n",
      "    long duster       0.00      0.00      0.00         4\n",
      "    long sleeve       0.29      0.32      0.30       249\n",
      "           maxi       0.00      0.00      0.00         8\n",
      "medium cardigan       0.00      0.00      0.00        15\n",
      "    medium coat       0.00      0.00      0.00        16\n",
      "      miniskirt       0.00      0.00      0.00         9\n",
      "      patterned       0.64      0.17      0.27        40\n",
      "        printed       0.32      0.61      0.42        28\n",
      "   sheath dress       0.00      0.00      0.00        14\n",
      "    shirt dress       0.00      0.00      0.00         4\n",
      " short cardigan       0.00      0.00      0.00         6\n",
      "     short coat       0.00      0.00      0.00        27\n",
      "  short sleeves       0.05      0.02      0.02        62\n",
      "         shorts       0.00      0.00      0.00        10\n",
      "     sleeveless       0.27      0.17      0.21        96\n",
      "  solid colours       0.11      0.61      0.19       102\n",
      "      tracksuit       0.00      0.00      0.00        14\n",
      "  trapeze dress       0.00      0.00      0.00        16\n",
      "\n",
      "       accuracy                           0.21      1115\n",
      "      macro avg       0.13      0.10      0.08      1115\n",
      "   weighted avg       0.33      0.21      0.19      1115\n",
      "\n"
     ]
    },
    {
     "name": "stderr",
     "output_type": "stream",
     "text": [
      "/Users/francescobazzani/miniconda3/envs/fml_project/lib/python3.10/site-packages/sklearn/metrics/_classification.py:1327: UndefinedMetricWarning: Precision and F-score are ill-defined and being set to 0.0 in labels with no predicted samples. Use `zero_division` parameter to control this behavior.\n",
      "  _warn_prf(average, modifier, msg_start, len(result))\n",
      "/Users/francescobazzani/miniconda3/envs/fml_project/lib/python3.10/site-packages/sklearn/metrics/_classification.py:1327: UndefinedMetricWarning: Precision and F-score are ill-defined and being set to 0.0 in labels with no predicted samples. Use `zero_division` parameter to control this behavior.\n",
      "  _warn_prf(average, modifier, msg_start, len(result))\n",
      "/Users/francescobazzani/miniconda3/envs/fml_project/lib/python3.10/site-packages/sklearn/metrics/_classification.py:1327: UndefinedMetricWarning: Precision and F-score are ill-defined and being set to 0.0 in labels with no predicted samples. Use `zero_division` parameter to control this behavior.\n",
      "  _warn_prf(average, modifier, msg_start, len(result))\n"
     ]
    },
    {
     "data": {
      "text/plain": "array(['solid colours', 'sleeveless', 'long sleeve', ..., 'long sleeve',\n       'sleeveless', 'solid colours'], dtype='<U15')"
     },
     "execution_count": 102,
     "metadata": {},
     "output_type": "execute_result"
    }
   ],
   "source": [
    "bg_classifier.predict(A_test, y_test)"
   ],
   "metadata": {
    "collapsed": false,
    "pycharm": {
     "name": "#%%\n"
    }
   }
  },
  {
   "cell_type": "markdown",
   "source": [
    "The predict method returns the y_fit (the prediction) and the performance of the classifier"
   ],
   "metadata": {
    "collapsed": false
   }
  },
  {
   "cell_type": "code",
   "execution_count": 103,
   "outputs": [
    {
     "name": "stderr",
     "output_type": "stream",
     "text": [
      "100%|██████████| 1115/1115 [00:04<00:00, 249.00it/s]\n",
      "100%|██████████| 1115/1115 [00:00<00:00, 2040.88it/s]\n"
     ]
    }
   ],
   "source": [
    "new_test_features = bg_classifier.transform_features(A_test)"
   ],
   "metadata": {
    "collapsed": false,
    "pycharm": {
     "name": "#%%\n"
    }
   }
  },
  {
   "cell_type": "code",
   "execution_count": 104,
   "outputs": [],
   "source": [
    "new_train_features = bg_classifier.features"
   ],
   "metadata": {
    "collapsed": false,
    "pycharm": {
     "name": "#%%\n"
    }
   }
  },
  {
   "cell_type": "code",
   "execution_count": 105,
   "outputs": [],
   "source": [
    "from sklearn.cluster import KMeans\n",
    "scaler = StandardScaler()\n",
    "\n",
    "kmeans = KMeans(n_clusters=4, random_state=0).fit(new_train_features)"
   ],
   "metadata": {
    "collapsed": false,
    "pycharm": {
     "name": "#%%\n"
    }
   }
  },
  {
   "cell_type": "markdown",
   "source": [
    "Here I try to observe if clusters emerge in the datasets"
   ],
   "metadata": {
    "collapsed": false
   }
  },
  {
   "cell_type": "code",
   "execution_count": 106,
   "outputs": [],
   "source": [
    "n_clusters = 4\n",
    "clusters = {i:[] for i in range(n_clusters)}\n",
    "for index, cluster in zip(range(len(kmeans.labels_)), kmeans.labels_):\n",
    "    original_class = y_train[index]\n",
    "    clusters[cluster].append(original_class)\n",
    "\n",
    "counted = []\n",
    "for cluster, list_items in clusters.items():\n",
    "    count = Counter(list_items)\n",
    "    tmp = []\n",
    "    for class_, value in count.items():\n",
    "        tmp.append(value)\n",
    "    counted.append(tmp)"
   ],
   "metadata": {
    "collapsed": false,
    "pycharm": {
     "name": "#%%\n"
    }
   }
  },
  {
   "cell_type": "code",
   "execution_count": 107,
   "outputs": [
    {
     "data": {
      "text/plain": "dict_items([('long coat', 39), ('printed', 82), ('solid colours', 181), ('medium cardigan', 14), ('long sleeve', 428), ('kimono dress', 85), ('long dress', 32), ('sleeveless', 142), ('patterned', 49), ('long cardigan', 5), ('doll dress', 59), ('short sleeves', 139), ('maxi', 13), ('short coat', 25), ('trapeze dress', 34), ('short cardigan', 7), ('medium coat', 35), ('gitana skirt', 7), ('culottes', 62), ('sheath dress', 21), ('drop sleeve', 37), ('shirt dress', 8), ('capris', 5), ('shorts', 7), ('tracksuit', 8), ('long duster', 8), ('miniskirt', 5)])"
     },
     "execution_count": 107,
     "metadata": {},
     "output_type": "execute_result"
    }
   ],
   "source": [
    "Counter(clusters[0]).items()"
   ],
   "metadata": {
    "collapsed": false,
    "pycharm": {
     "name": "#%%\n"
    }
   }
  },
  {
   "cell_type": "code",
   "execution_count": 108,
   "outputs": [],
   "source": [
    "unique_labels = list(set(y_train))\n",
    "new_map = {i:(0,0) for i in unique_labels}\n",
    "\n",
    "for cluster in range(n_clusters):\n",
    "    for class_, count in Counter(clusters[cluster]).items():\n",
    "        if new_map[class_][0] < count:\n",
    "            new_map[class_] = (count, cluster)"
   ],
   "metadata": {
    "collapsed": false,
    "pycharm": {
     "name": "#%%\n"
    }
   }
  },
  {
   "cell_type": "code",
   "execution_count": 109,
   "outputs": [
    {
     "data": {
      "text/plain": "{0: ['printed', 'maxi', 'short sleeves', 'kimono dress', 'long duster'],\n 1: ['long dress',\n  'sleeveless',\n  'sheath dress',\n  'drop sleeve',\n  'medium cardigan',\n  'gitana skirt',\n  'capris',\n  'short coat',\n  'solid colours',\n  'short cardigan',\n  'long coat',\n  'miniskirt',\n  'long sleeve',\n  'culottes',\n  'trapeze dress',\n  'doll dress',\n  'tracksuit',\n  'medium coat',\n  'long cardigan'],\n 2: ['shirt dress'],\n 3: ['patterned', 'shorts']}"
     },
     "execution_count": 109,
     "metadata": {},
     "output_type": "execute_result"
    }
   ],
   "source": [
    "definitive_cluster = {i:[] for i in range(4)}\n",
    "for key, tuple_ in new_map.items():\n",
    "    _, map = tuple_\n",
    "    definitive_cluster[map].append(key)\n",
    "definitive_cluster"
   ],
   "metadata": {
    "collapsed": false,
    "pycharm": {
     "name": "#%%\n"
    }
   }
  },
  {
   "cell_type": "markdown",
   "source": [
    "These are clusters emerged using k means. The algorithm fails the discrimination because K-means is not optimized for sparsed matrices (matrix with only few features different from 0)."
   ],
   "metadata": {
    "collapsed": false,
    "pycharm": {
     "name": "#%% md\n"
    }
   }
  }
 ],
 "metadata": {
  "kernelspec": {
   "display_name": "Python 3",
   "language": "python",
   "name": "python3"
  },
  "language_info": {
   "codemirror_mode": {
    "name": "ipython",
    "version": 2
   },
   "file_extension": ".py",
   "mimetype": "text/x-python",
   "name": "python",
   "nbconvert_exporter": "python",
   "pygments_lexer": "ipython2",
   "version": "2.7.6"
  }
 },
 "nbformat": 4,
 "nbformat_minor": 0
}